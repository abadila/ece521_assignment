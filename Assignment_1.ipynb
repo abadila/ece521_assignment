{
 "cells": [
  {
   "cell_type": "code",
   "execution_count": 6,
   "metadata": {
    "collapsed": false
   },
   "outputs": [],
   "source": [
    "import numpy as np\n",
    "import matplotlib as mt\n",
    "import matplotlib.pyplot as plt\n",
    "\n",
    "%matplotlib inline"
   ]
  },
  {
   "cell_type": "code",
   "execution_count": 7,
   "metadata": {
    "collapsed": false
   },
   "outputs": [],
   "source": [
    "# %conda install pandas"
   ]
  },
  {
   "cell_type": "code",
   "execution_count": 8,
   "metadata": {
    "collapsed": false
   },
   "outputs": [],
   "source": [
    "import pandas"
   ]
  },
  {
   "cell_type": "code",
   "execution_count": 62,
   "metadata": {
    "collapsed": false
   },
   "outputs": [],
   "source": [
    "train_x = np.linspace(1.0, 10.0, num = 100)[:, np.newaxis]\n",
    "train_y = np.sin(train_x) + 0.1* np.power(train_x, 2) + 0.5 + np.random.randn(100, 1)\n",
    "\n",
    "with np.load(\"TINY_MNIST.npz\") as data:\n",
    "    x, t = data[\"x\"], data[\"t\"]\n",
    "    x_eval, t_eval = data[\"x_eval\"], data[\"t_eval\"]\n",
    "    "
   ]
  },
  {
   "cell_type": "code",
   "execution_count": 10,
   "metadata": {
    "collapsed": false,
    "scrolled": true
   },
   "outputs": [],
   "source": [
    "# Task 1\n",
    "# get Euclidean distance\n",
    "\n",
    "def getEucDist(vec1, vec2):\n",
    "    return np.linalg.norm(vec1 - vec2)\n",
    "\n",
    "def getEucDistAll(vecToClass, vecs, resp):\n",
    "    arr = [] \n",
    "    for idx, val in enumerate(vecs):\n",
    "        arr.append([getEucDist(val, vecToClass), resp[idx][0]])\n",
    "    arr.sort(key=lambda x: x[0])\n",
    "    ed = np.asarray(arr)\n",
    "    return ed\n",
    "\n",
    "def getVote(sortedResp, K):\n",
    "    p1 = np.count_nonzero(sortedResp[0:K])/K\n",
    "    return p1\n"
   ]
  },
  {
   "cell_type": "code",
   "execution_count": 11,
   "metadata": {
    "collapsed": false
   },
   "outputs": [
    {
     "data": {
      "text/plain": [
       "0.31666666666666665"
      ]
     },
     "execution_count": 11,
     "metadata": {},
     "output_type": "execute_result"
    }
   ],
   "source": [
    "ed = getEucDistAll(x_eval[1], x, t)\n",
    "getVote(ed[:,1], 300)"
   ]
  },
  {
   "cell_type": "code",
   "execution_count": 12,
   "metadata": {
    "collapsed": false
   },
   "outputs": [
    {
     "data": {
      "text/plain": [
       "<function matplotlib.pyplot.show>"
      ]
     },
     "execution_count": 12,
     "metadata": {},
     "output_type": "execute_result"
    },
    {
     "data": {
      "image/png": "[encoded data removed]",
      "text/plain": [
       "<matplotlib.figure.Figure at 0x10bcb1470>"
      ]
     },
     "metadata": {},
     "output_type": "display_data"
    }
   ],
   "source": [
    "plt.hist(ed[:,0])\n",
    "plt.show"
   ]
  },
  {
   "cell_type": "code",
   "execution_count": 40,
   "metadata": {
    "collapsed": false
   },
   "outputs": [
    {
     "data": {
      "text/plain": [
       "0"
      ]
     },
     "execution_count": 40,
     "metadata": {},
     "output_type": "execute_result"
    }
   ],
   "source": [
    "np.count_nonzero(ed[0:1,1])"
   ]
  },
  {
   "cell_type": "markdown",
   "metadata": {},
   "source": [
    "### Task 2"
   ]
  },
  {
   "cell_type": "code",
   "execution_count": 50,
   "metadata": {
    "collapsed": true
   },
   "outputs": [],
   "source": [
    "Nnei = [5, 50, 100, 200, 400, 800]\n",
    "kval = [1, 3, 5, 7, 21, 101, 401]"
   ]
  },
  {
   "cell_type": "code",
   "execution_count": 52,
   "metadata": {
    "collapsed": false
   },
   "outputs": [
    {
     "data": {
      "text/plain": [
       "array([[ 0.  ,  0.  ,  0.  , ...,  0.  ,  0.  ,  0.  ],\n",
       "       [ 0.  ,  0.  ,  0.08, ...,  0.13,  0.  ,  0.  ],\n",
       "       [ 0.  ,  0.  ,  0.  , ...,  0.  ,  0.  ,  0.  ],\n",
       "       ..., \n",
       "       [ 0.11,  0.2 ,  0.24, ...,  0.55,  0.46,  0.  ],\n",
       "       [ 0.19,  0.42,  0.42, ...,  0.52,  0.22,  0.  ],\n",
       "       [ 0.  ,  0.  ,  0.02, ...,  0.62,  0.17,  0.  ]])"
      ]
     },
     "execution_count": 52,
     "metadata": {},
     "output_type": "execute_result"
    }
   ],
   "source": [
    "x[0:40]"
   ]
  },
  {
   "cell_type": "code",
   "execution_count": 193,
   "metadata": {
    "collapsed": true
   },
   "outputs": [],
   "source": [
    "def getResid(n, k, x_val, tr, resp):\n",
    "    arr_comp = []\n",
    "    for idx, im in enumerate(x_val):\n",
    "        ed_iter = getEucDistAll(im, tr[0:n], resp[0:n])\n",
    "        arr_comp.append([resp[idx][0] , getVote(ed_iter[:,1], k ) > 0.49 ])\n",
    "    return arr_comp\n"
   ]
  },
  {
   "cell_type": "code",
   "execution_count": 194,
   "metadata": {
    "collapsed": false
   },
   "outputs": [],
   "source": [
    "df = pandas.DataFrame(res)\n",
    "df.columns = ['resp', 'forec']"
   ]
  },
  {
   "cell_type": "code",
   "execution_count": 205,
   "metadata": {
    "collapsed": false
   },
   "outputs": [],
   "source": [
    "def getPrecRecall(n, k, x_val, tr, resp):\n",
    "    res = getResid(n, k, x_val, tr, resp)\n",
    "    df = pandas.DataFrame(res)\n",
    "    df.columns = ['resp', 'forec']\n",
    "    \n",
    "    tps = len(df.ix[(df['resp']== 1) & (df['forec'] == 1) ])\n",
    "    fps = len(df.ix[(df['resp']== 0) & (df['forec'] == 1) ])\n",
    "    tns = len(df.ix[(df['resp']== 0) & (df['forec'] == 0) ])\n",
    "    fns = len(df.ix[(df['resp']== 1) & (df['forec'] == 0) ])\n",
    "    \n",
    "    prec = tps/(tps + fps)\n",
    "    reca = tps/(tps + fns)\n",
    "    f1 = 2*(prec*reca)/(prec + reca)\n",
    "    \n",
    "    arr_ret = pandas.DataFrame.transpose(pandas.DataFrame([n, k, fps + fps , prec, reca, f1 ]))\n",
    "    arr_ret.columns = ['n', 'k', 'val_err', 'prec', 'reca', 'f1']\n",
    "    return arr_ret\n",
    "    "
   ]
  },
  {
   "cell_type": "code",
   "execution_count": 204,
   "metadata": {
    "collapsed": false
   },
   "outputs": [
    {
     "data": {
      "text/html": [
       "<div>\n",
       "<table border=\"1\" class=\"dataframe\">\n",
       "  <thead>\n",
       "    <tr style=\"text-align: right;\">\n",
       "      <th></th>\n",
       "      <th>n</th>\n",
       "      <th>k</th>\n",
       "      <th>prec</th>\n",
       "      <th>reca</th>\n",
       "      <th>f1</th>\n",
       "    </tr>\n",
       "  </thead>\n",
       "  <tbody>\n",
       "    <tr>\n",
       "      <th>0</th>\n",
       "      <td>800</td>\n",
       "      <td>1</td>\n",
       "      <td>0.479167</td>\n",
       "      <td>0.46</td>\n",
       "      <td>0.469388</td>\n",
       "    </tr>\n",
       "  </tbody>\n",
       "</table>\n",
       "</div>"
      ],
      "text/plain": [
       "     n  k      prec  reca        f1\n",
       "0  800  1  0.479167  0.46  0.469388"
      ]
     },
     "execution_count": 204,
     "metadata": {},
     "output_type": "execute_result"
    }
   ],
   "source": [
    "df = getPrecRecall(800, 1, x_eval, x, t)\n",
    "for ks in kval:\n",
    "    df.append(getPrecRecall(800, ks, x_eval, x, t))\n",
    "df"
   ]
  },
  {
   "cell_type": "code",
   "execution_count": 215,
   "metadata": {
    "collapsed": false
   },
   "outputs": [
    {
     "data": {
      "text/html": [
       "<div>\n",
       "<table border=\"1\" class=\"dataframe\">\n",
       "  <thead>\n",
       "    <tr style=\"text-align: right;\">\n",
       "      <th></th>\n",
       "      <th>n</th>\n",
       "      <th>k</th>\n",
       "      <th>val_err</th>\n",
       "      <th>prec</th>\n",
       "      <th>reca</th>\n",
       "      <th>f1</th>\n",
       "    </tr>\n",
       "  </thead>\n",
       "  <tbody>\n",
       "    <tr>\n",
       "      <th>0</th>\n",
       "      <td>5</td>\n",
       "      <td>1</td>\n",
       "      <td>250</td>\n",
       "      <td>0.481328</td>\n",
       "      <td>0.580</td>\n",
       "      <td>0.526077</td>\n",
       "    </tr>\n",
       "    <tr>\n",
       "      <th>0</th>\n",
       "      <td>50</td>\n",
       "      <td>1</td>\n",
       "      <td>206</td>\n",
       "      <td>0.474490</td>\n",
       "      <td>0.465</td>\n",
       "      <td>0.469697</td>\n",
       "    </tr>\n",
       "    <tr>\n",
       "      <th>0</th>\n",
       "      <td>100</td>\n",
       "      <td>1</td>\n",
       "      <td>210</td>\n",
       "      <td>0.477612</td>\n",
       "      <td>0.480</td>\n",
       "      <td>0.478803</td>\n",
       "    </tr>\n",
       "    <tr>\n",
       "      <th>0</th>\n",
       "      <td>200</td>\n",
       "      <td>1</td>\n",
       "      <td>212</td>\n",
       "      <td>0.477833</td>\n",
       "      <td>0.485</td>\n",
       "      <td>0.481390</td>\n",
       "    </tr>\n",
       "    <tr>\n",
       "      <th>0</th>\n",
       "      <td>400</td>\n",
       "      <td>1</td>\n",
       "      <td>208</td>\n",
       "      <td>0.477387</td>\n",
       "      <td>0.475</td>\n",
       "      <td>0.476190</td>\n",
       "    </tr>\n",
       "    <tr>\n",
       "      <th>0</th>\n",
       "      <td>800</td>\n",
       "      <td>1</td>\n",
       "      <td>200</td>\n",
       "      <td>0.479167</td>\n",
       "      <td>0.460</td>\n",
       "      <td>0.469388</td>\n",
       "    </tr>\n",
       "  </tbody>\n",
       "</table>\n",
       "</div>"
      ],
      "text/plain": [
       "     n  k  val_err      prec   reca        f1\n",
       "0    5  1      250  0.481328  0.580  0.526077\n",
       "0   50  1      206  0.474490  0.465  0.469697\n",
       "0  100  1      210  0.477612  0.480  0.478803\n",
       "0  200  1      212  0.477833  0.485  0.481390\n",
       "0  400  1      208  0.477387  0.475  0.476190\n",
       "0  800  1      200  0.479167  0.460  0.469388"
      ]
     },
     "execution_count": 215,
     "metadata": {},
     "output_type": "execute_result"
    }
   ],
   "source": [
    "df_task1 = getPrecRecall(5, 1, x_eval, x, t).append(getPrecRecall(50, 1, x_eval, x, t)).append(getPrecRecall(100, 1, x_eval, x, t)).append(getPrecRecall(200, 1, x_eval, x, t)).append(getPrecRecall(400, 1, x_eval, x, t)).append(getPrecRecall(800, 1, x_eval, x, t))\n",
    "df_task1\n",
    "\n"
   ]
  },
  {
   "cell_type": "code",
   "execution_count": 216,
   "metadata": {
    "collapsed": false
   },
   "outputs": [
    {
     "data": {
      "text/html": [
       "<div>\n",
       "<table border=\"1\" class=\"dataframe\">\n",
       "  <thead>\n",
       "    <tr style=\"text-align: right;\">\n",
       "      <th></th>\n",
       "      <th>n</th>\n",
       "      <th>k</th>\n",
       "      <th>val_err</th>\n",
       "      <th>prec</th>\n",
       "      <th>reca</th>\n",
       "      <th>f1</th>\n",
       "    </tr>\n",
       "  </thead>\n",
       "  <tbody>\n",
       "    <tr>\n",
       "      <th>0</th>\n",
       "      <td>800</td>\n",
       "      <td>1</td>\n",
       "      <td>200</td>\n",
       "      <td>0.479167</td>\n",
       "      <td>0.460</td>\n",
       "      <td>0.469388</td>\n",
       "    </tr>\n",
       "    <tr>\n",
       "      <th>0</th>\n",
       "      <td>800</td>\n",
       "      <td>3</td>\n",
       "      <td>208</td>\n",
       "      <td>0.480000</td>\n",
       "      <td>0.480</td>\n",
       "      <td>0.480000</td>\n",
       "    </tr>\n",
       "    <tr>\n",
       "      <th>0</th>\n",
       "      <td>800</td>\n",
       "      <td>5</td>\n",
       "      <td>210</td>\n",
       "      <td>0.475000</td>\n",
       "      <td>0.475</td>\n",
       "      <td>0.475000</td>\n",
       "    </tr>\n",
       "    <tr>\n",
       "      <th>0</th>\n",
       "      <td>800</td>\n",
       "      <td>7</td>\n",
       "      <td>208</td>\n",
       "      <td>0.477387</td>\n",
       "      <td>0.475</td>\n",
       "      <td>0.476190</td>\n",
       "    </tr>\n",
       "    <tr>\n",
       "      <th>0</th>\n",
       "      <td>800</td>\n",
       "      <td>21</td>\n",
       "      <td>210</td>\n",
       "      <td>0.477612</td>\n",
       "      <td>0.480</td>\n",
       "      <td>0.478803</td>\n",
       "    </tr>\n",
       "    <tr>\n",
       "      <th>0</th>\n",
       "      <td>800</td>\n",
       "      <td>101</td>\n",
       "      <td>210</td>\n",
       "      <td>0.467005</td>\n",
       "      <td>0.460</td>\n",
       "      <td>0.463476</td>\n",
       "    </tr>\n",
       "    <tr>\n",
       "      <th>0</th>\n",
       "      <td>800</td>\n",
       "      <td>401</td>\n",
       "      <td>196</td>\n",
       "      <td>0.494845</td>\n",
       "      <td>0.480</td>\n",
       "      <td>0.487310</td>\n",
       "    </tr>\n",
       "  </tbody>\n",
       "</table>\n",
       "</div>"
      ],
      "text/plain": [
       "     n    k  val_err      prec   reca        f1\n",
       "0  800    1      200  0.479167  0.460  0.469388\n",
       "0  800    3      208  0.480000  0.480  0.480000\n",
       "0  800    5      210  0.475000  0.475  0.475000\n",
       "0  800    7      208  0.477387  0.475  0.476190\n",
       "0  800   21      210  0.477612  0.480  0.478803\n",
       "0  800  101      210  0.467005  0.460  0.463476\n",
       "0  800  401      196  0.494845  0.480  0.487310"
      ]
     },
     "execution_count": 216,
     "metadata": {},
     "output_type": "execute_result"
    }
   ],
   "source": [
    "df_task2 = getPrecRecall(800, 1, x_eval, x, t).append(getPrecRecall(800, 3, x_eval, x, t)).append(getPrecRecall(800, 5, x_eval, x, t)).append(getPrecRecall(800, 7, x_eval, x, t)).append(getPrecRecall(800, 21, x_eval, x, t)).append(getPrecRecall(800, 101, x_eval, x, t)).append(getPrecRecall(800, 401, x_eval, x, t))\n",
    "\n",
    "df_task2"
   ]
  },
  {
   "cell_type": "markdown",
   "metadata": {},
   "source": [
    "### Task 3"
   ]
  },
  {
   "cell_type": "code",
   "execution_count": 52,
   "metadata": {
    "collapsed": false
   },
   "outputs": [
    {
     "data": {
      "image/png": "[encoded data removed]",
      "text/plain": [
       "<matplotlib.figure.Figure at 0x104ab47f0>"
      ]
     },
     "metadata": {},
     "output_type": "display_data"
    }
   ],
   "source": [
    "import numpy as np\n",
    "import matplotlib.pyplot as plt\n",
    "from gradient_descent import gradient_descent\n",
    "\n",
    "\n",
    "train_x = np.linspace (1.0 , 10.0 , num =100) [:, np.newaxis]\n",
    "train_y = np.sin( train_x ) + np.power ( train_x , 2) * 0.1 + np.random .randn (100 , 1) * 0.5\n",
    "yd = np.shape(train_y)\n",
    "T = yd[0]\n",
    "eta = 0.001\n",
    "plt.plot(train_x, train_y)\n",
    "w = gradient_descent(train_x, train_y, eta)\n",
    "train_y_p = np.zeros(T, dtype = float)\n",
    "for i in range(0, T):\n",
    "    train_y_p[i] = w[0] + w[1] * train_x[i]\n",
    "plt.plot(train_x, train_y_p)\n",
    "plt.show()\n"
   ]
  },
  {
   "cell_type": "code",
   "execution_count": 54,
   "metadata": {
    "collapsed": false
   },
   "outputs": [
    {
     "data": {
      "image/png": "[encoded data removed]",
      "text/plain": [
       "<matplotlib.figure.Figure at 0x10bfef4a8>"
      ]
     },
     "metadata": {},
     "output_type": "display_data"
    }
   ],
   "source": [
    "import numpy as np\n",
    "import matplotlib.pyplot as plt\n",
    "from gradient_descent import gradient_descent\n",
    "\n",
    "\n",
    "train_x_1 = np.linspace (1.0 , 10.0 , num =100) [:, np. newaxis]\n",
    "train_x_2 = [x**2 for x in train_x_1]\n",
    "train_x_3 = [x**3 for x in train_x_1]\n",
    "train_x_4 = [x**4 for x in train_x_1]\n",
    "train_x_5 = [x**5 for x in train_x_1]\n",
    "\n",
    "train_mean = np.zeros(5)\n",
    "train_mean[0] = np.mean(train_x_1)\n",
    "train_mean[1] = np.mean(train_x_2)\n",
    "train_mean[2] = np.mean(train_x_3)\n",
    "train_mean[3] = np.mean(train_x_4)\n",
    "train_mean[4] = np.mean(train_x_5)\n",
    "\n",
    "train_std = np.zeros(5)\n",
    "train_std[0] = np.std(train_x_1)\n",
    "train_std[1] = np.std(train_x_2)\n",
    "train_std[2] = np.std(train_x_3)\n",
    "train_std[3] = np.std(train_x_4)\n",
    "train_std[4] = np.std(train_x_5)\n",
    "\n",
    "train_x_1_n = [(x-train_mean[0])/train_std[0] for x in train_x_1]\n",
    "train_x_2_n = [(x-train_mean[1])/train_std[1] for x in train_x_2]\n",
    "train_x_3_n = [(x-train_mean[2])/train_std[2] for x in train_x_3]\n",
    "train_x_4_n = [(x-train_mean[3])/train_std[3] for x in train_x_4]\n",
    "train_x_5_n = [(x-train_mean[4])/train_std[4] for x in train_x_5]\n",
    "\n",
    "train_x = np.zeros((100,5))\n",
    "\n",
    "train_x[:, 0] = train_x_1_n\n",
    "train_x[:, 1] = train_x_2_n\n",
    "train_x[:, 2] = train_x_3_n\n",
    "train_x[:, 3] = train_x_4_n\n",
    "train_x[:, 4] = train_x_5_n\n",
    "\n",
    "train_y = np.sin( train_x_1 ) + np.power ( train_x_1 , 2) * 0.1 + np.random .randn (100 , 1) * 0.5\n",
    "eta = 0.001\n",
    "plt.plot(train_x_1, train_y)\n",
    "w = gradient_descent(train_x, train_y, eta)\n",
    "train_y_p = np.zeros(100)\n",
    "for i in range(0, 100):\n",
    "    train_y_p[i] = w[0]\n",
    "    for j in range(1, 6):\n",
    "        train_y_p[i] = train_y_p[i] + w[j] * ((train_x_1[i] ** j - train_mean[j-1])/train_std[j-1])\n",
    "\n",
    "plt.plot(train_x_1, train_y_p)\n",
    "plt.show()\n"
   ]
  },
  {
   "cell_type": "code",
   "execution_count": 55,
   "metadata": {
    "collapsed": false,
    "scrolled": true
   },
   "outputs": [
    {
     "data": {
      "text/plain": [
       "array([[ -1.71481604e+00,  -1.22431013e+00,  -9.63856800e-01,\n",
       "         -8.12461534e-01,  -7.14021393e-01],\n",
       "       [ -1.68017329e+00,  -1.21787007e+00,  -9.62826365e-01,\n",
       "         -8.12311164e-01,  -7.14000732e-01],\n",
       "       [ -1.64553055e+00,  -1.21087001e+00,  -9.61609049e-01,\n",
       "         -8.12118113e-01,  -7.13971908e-01],\n",
       "       [ -1.61088780e+00,  -1.20330995e+00,  -9.60189281e-01,\n",
       "         -8.11874980e-01,  -7.13932711e-01],\n",
       "       [ -1.57624505e+00,  -1.19518989e+00,  -9.58551485e-01,\n",
       "         -8.11573771e-01,  -7.13880564e-01],\n",
       "       [ -1.54160230e+00,  -1.18650981e+00,  -9.56680090e-01,\n",
       "         -8.11205901e-01,  -7.13812494e-01],\n",
       "       [ -1.50695955e+00,  -1.17726974e+00,  -9.54559522e-01,\n",
       "         -8.10762193e-01,  -7.13725104e-01],\n",
       "       [ -1.47231680e+00,  -1.16746966e+00,  -9.52174206e-01,\n",
       "         -8.10232875e-01,  -7.13614547e-01],\n",
       "       [ -1.43767406e+00,  -1.15710957e+00,  -9.49508571e-01,\n",
       "         -8.09607588e-01,  -7.13476494e-01],\n",
       "       [ -1.40303131e+00,  -1.14618948e+00,  -9.46547043e-01,\n",
       "         -8.08875376e-01,  -7.13306107e-01],\n",
       "       [ -1.36838856e+00,  -1.13470939e+00,  -9.43274048e-01,\n",
       "         -8.08024694e-01,  -7.13098013e-01],\n",
       "       [ -1.33374581e+00,  -1.12266929e+00,  -9.39674013e-01,\n",
       "         -8.07043404e-01,  -7.12846275e-01],\n",
       "       [ -1.29910306e+00,  -1.11006918e+00,  -9.35731365e-01,\n",
       "         -8.05918774e-01,  -7.12544359e-01],\n",
       "       [ -1.26446031e+00,  -1.09690907e+00,  -9.31430530e-01,\n",
       "         -8.04637484e-01,  -7.12185114e-01],\n",
       "       [ -1.22981757e+00,  -1.08318896e+00,  -9.26755935e-01,\n",
       "         -8.03185618e-01,  -7.11760736e-01],\n",
       "       [ -1.19517482e+00,  -1.06890884e+00,  -9.21692007e-01,\n",
       "         -8.01548670e-01,  -7.11262745e-01],\n",
       "       [ -1.16053207e+00,  -1.05406872e+00,  -9.16223172e-01,\n",
       "         -7.99711541e-01,  -7.10681955e-01],\n",
       "       [ -1.12588932e+00,  -1.03866859e+00,  -9.10333858e-01,\n",
       "         -7.97658540e-01,  -7.10008444e-01],\n",
       "       [ -1.09124657e+00,  -1.02270846e+00,  -9.04008490e-01,\n",
       "         -7.95373385e-01,  -7.09231530e-01],\n",
       "       [ -1.05660382e+00,  -1.00618832e+00,  -8.97231496e-01,\n",
       "         -7.92839201e-01,  -7.08339736e-01],\n",
       "       [ -1.02196108e+00,  -9.89108181e-01,  -8.89987301e-01,\n",
       "         -7.90038520e-01,  -7.07320771e-01],\n",
       "       [ -9.87318327e-01,  -9.71468035e-01,  -8.82260334e-01,\n",
       "         -7.86953283e-01,  -7.06161493e-01],\n",
       "       [ -9.52675579e-01,  -9.53267884e-01,  -8.74035019e-01,\n",
       "         -7.83564839e-01,  -7.04847886e-01],\n",
       "       [ -9.18032831e-01,  -9.34507729e-01,  -8.65295785e-01,\n",
       "         -7.79853945e-01,  -7.03365028e-01],\n",
       "       [ -8.83390082e-01,  -9.15187569e-01,  -8.56027058e-01,\n",
       "         -7.75800765e-01,  -7.01697069e-01],\n",
       "       [ -8.48747334e-01,  -8.95307405e-01,  -8.46213264e-01,\n",
       "         -7.71384871e-01,  -6.99827195e-01],\n",
       "       [ -8.14104586e-01,  -8.74867236e-01,  -8.35838830e-01,\n",
       "         -7.66585243e-01,  -6.97737605e-01],\n",
       "       [ -7.79461837e-01,  -8.53867062e-01,  -8.24888183e-01,\n",
       "         -7.61380271e-01,  -6.95409481e-01],\n",
       "       [ -7.44819089e-01,  -8.32306884e-01,  -8.13345749e-01,\n",
       "         -7.55747749e-01,  -6.92822960e-01],\n",
       "       [ -7.10176341e-01,  -8.10186701e-01,  -8.01195956e-01,\n",
       "         -7.49664883e-01,  -6.89957105e-01],\n",
       "       [ -6.75533592e-01,  -7.87506513e-01,  -7.88423229e-01,\n",
       "         -7.43108283e-01,  -6.86789879e-01],\n",
       "       [ -6.40890844e-01,  -7.64266321e-01,  -7.75011996e-01,\n",
       "         -7.36053969e-01,  -6.83298113e-01],\n",
       "       [ -6.06248096e-01,  -7.40466124e-01,  -7.60946683e-01,\n",
       "         -7.28477370e-01,  -6.79457482e-01],\n",
       "       [ -5.71605347e-01,  -7.16105923e-01,  -7.46211716e-01,\n",
       "         -7.20353320e-01,  -6.75242474e-01],\n",
       "       [ -5.36962599e-01,  -6.91185717e-01,  -7.30791523e-01,\n",
       "         -7.11656063e-01,  -6.70626362e-01],\n",
       "       [ -5.02319851e-01,  -6.65705506e-01,  -7.14670530e-01,\n",
       "         -7.02359251e-01,  -6.65581177e-01],\n",
       "       [ -4.67677102e-01,  -6.39665291e-01,  -6.97833164e-01,\n",
       "         -6.92435942e-01,  -6.60077678e-01],\n",
       "       [ -4.33034354e-01,  -6.13065071e-01,  -6.80263852e-01,\n",
       "         -6.81858604e-01,  -6.54085326e-01],\n",
       "       [ -3.98391606e-01,  -5.85904846e-01,  -6.61947019e-01,\n",
       "         -6.70599112e-01,  -6.47572254e-01],\n",
       "       [ -3.63748857e-01,  -5.58184617e-01,  -6.42867093e-01,\n",
       "         -6.58628748e-01,  -6.40505238e-01],\n",
       "       [ -3.29106109e-01,  -5.29904383e-01,  -6.23008501e-01,\n",
       "         -6.45918204e-01,  -6.32849673e-01],\n",
       "       [ -2.94463361e-01,  -5.01064144e-01,  -6.02355669e-01,\n",
       "         -6.32437579e-01,  -6.24569537e-01],\n",
       "       [ -2.59820612e-01,  -4.71663901e-01,  -5.80893024e-01,\n",
       "         -6.18156378e-01,  -6.15627373e-01],\n",
       "       [ -2.25177864e-01,  -4.41703653e-01,  -5.58604992e-01,\n",
       "         -6.03043516e-01,  -6.05984252e-01],\n",
       "       [ -1.90535116e-01,  -4.11183401e-01,  -5.35476000e-01,\n",
       "         -5.87067316e-01,  -5.95599748e-01],\n",
       "       [ -1.55892367e-01,  -3.80103144e-01,  -5.11490475e-01,\n",
       "         -5.70195508e-01,  -5.84431911e-01],\n",
       "       [ -1.21249619e-01,  -3.48462882e-01,  -4.86632844e-01,\n",
       "         -5.52395230e-01,  -5.72437237e-01],\n",
       "       [ -8.66068708e-02,  -3.16262616e-01,  -4.60887532e-01,\n",
       "         -5.33633028e-01,  -5.59570640e-01],\n",
       "       [ -5.19641225e-02,  -2.83502345e-01,  -4.34238968e-01,\n",
       "         -5.13874856e-01,  -5.45785425e-01],\n",
       "       [ -1.73213742e-02,  -2.50182069e-01,  -4.06671577e-01,\n",
       "         -4.93086076e-01,  -5.31033257e-01],\n",
       "       [  1.73213742e-02,  -2.16301789e-01,  -3.78169786e-01,\n",
       "         -4.71231459e-01,  -5.15264137e-01],\n",
       "       [  5.19641225e-02,  -1.81861504e-01,  -3.48718022e-01,\n",
       "         -4.48275180e-01,  -4.98426369e-01],\n",
       "       [  8.66068708e-02,  -1.46861215e-01,  -3.18300712e-01,\n",
       "         -4.24180827e-01,  -4.80466536e-01],\n",
       "       [  1.21249619e-01,  -1.11300921e-01,  -2.86902281e-01,\n",
       "         -3.98911391e-01,  -4.61329468e-01],\n",
       "       [  1.55892367e-01,  -7.51806218e-02,  -2.54507158e-01,\n",
       "         -3.72429276e-01,  -4.40958217e-01],\n",
       "       [  1.90535116e-01,  -3.85003184e-02,  -2.21099768e-01,\n",
       "         -3.44696290e-01,  -4.19294027e-01],\n",
       "       [  2.25177864e-01,  -1.26001042e-03,  -1.86664538e-01,\n",
       "         -3.15673649e-01,  -3.96276306e-01],\n",
       "       [  2.59820612e-01,   3.65403022e-02,  -1.51185895e-01,\n",
       "         -2.85321980e-01,  -3.71842597e-01],\n",
       "       [  2.94463361e-01,   7.49006195e-02,  -1.14648265e-01,\n",
       "         -2.53601315e-01,  -3.45928552e-01],\n",
       "       [  3.29106109e-01,   1.13820941e-01,  -7.70360761e-02,\n",
       "         -2.20471095e-01,  -3.18467902e-01],\n",
       "       [  3.63748857e-01,   1.53301268e-01,  -3.83337536e-02,\n",
       "         -1.85890168e-01,  -2.89392429e-01],\n",
       "       [  3.98391606e-01,   1.93341599e-01,   1.47427531e-03,\n",
       "         -1.49816792e-01,  -2.58631936e-01],\n",
       "       [  4.33034354e-01,   2.33941935e-01,   4.24035841e-02,\n",
       "         -1.12208630e-01,  -2.26114224e-01],\n",
       "       [  4.67677102e-01,   2.75102275e-01,   8.44697460e-02,\n",
       "         -7.30227550e-02,  -1.91765058e-01],\n",
       "       [  5.02319851e-01,   3.16822620e-01,   1.27688334e-01,\n",
       "         -3.22156476e-02,  -1.55508143e-01],\n",
       "       [  5.36962599e-01,   3.59102970e-01,   1.72074923e-01,\n",
       "          1.02568044e-02,  -1.17265091e-01],\n",
       "       [  5.71605347e-01,   4.01943324e-01,   2.17645084e-01,\n",
       "          5.44393047e-02,  -7.69553978e-02],\n",
       "       [  6.06248096e-01,   4.45343683e-01,   2.64414392e-01,\n",
       "          1.00377150e-01,  -3.44964130e-02],\n",
       "       [  6.40890844e-01,   4.89304047e-01,   3.12398419e-01,\n",
       "          1.48116227e-01,   1.01966899e-02],\n",
       "       [  6.75533592e-01,   5.33824415e-01,   3.61612740e-01,\n",
       "          1.97703017e-01,   5.72109402e-02],\n",
       "       [  7.10176341e-01,   5.78904788e-01,   4.12072927e-01,\n",
       "          2.49184592e-01,   1.06635598e-01],\n",
       "       [  7.44819089e-01,   6.24545166e-01,   4.63794554e-01,\n",
       "          3.02608617e-01,   1.58562184e-01],\n",
       "       [  7.79461837e-01,   6.70745548e-01,   5.16793194e-01,\n",
       "          3.58023348e-01,   2.13084506e-01],\n",
       "       [  8.14104586e-01,   7.17505934e-01,   5.71084421e-01,\n",
       "          4.15477634e-01,   2.70298687e-01],\n",
       "       [  8.48747334e-01,   7.64826326e-01,   6.26683807e-01,\n",
       "          4.75020915e-01,   3.30303197e-01],\n",
       "       [  8.83390082e-01,   8.12706722e-01,   6.83606927e-01,\n",
       "          5.36703225e-01,   3.93198875e-01],\n",
       "       [  9.18032831e-01,   8.61147122e-01,   7.41869352e-01,\n",
       "          6.00575188e-01,   4.59088964e-01],\n",
       "       [  9.52675579e-01,   9.10147528e-01,   8.01486658e-01,\n",
       "          6.66688022e-01,   5.28079135e-01],\n",
       "       [  9.87318327e-01,   9.59707938e-01,   8.62474417e-01,\n",
       "          7.35093535e-01,   6.00277514e-01],\n",
       "       [  1.02196108e+00,   1.00982835e+00,   9.24848202e-01,\n",
       "          8.05844130e-01,   6.75794717e-01],\n",
       "       [  1.05660382e+00,   1.06050877e+00,   9.88623587e-01,\n",
       "          8.78992798e-01,   7.54743869e-01],\n",
       "       [  1.09124657e+00,   1.11174920e+00,   1.05381615e+00,\n",
       "          9.54593127e-01,   8.37240641e-01],\n",
       "       [  1.12588932e+00,   1.16354962e+00,   1.12044145e+00,\n",
       "          1.03269929e+00,   9.23403273e-01],\n",
       "       [  1.16053207e+00,   1.21591006e+00,   1.18851507e+00,\n",
       "          1.11336607e+00,   1.01335260e+00],\n",
       "       [  1.19517482e+00,   1.26883049e+00,   1.25805259e+00,\n",
       "          1.19664881e+00,   1.10721209e+00],\n",
       "       [  1.22981757e+00,   1.32231094e+00,   1.32906957e+00,\n",
       "          1.28260347e+00,   1.20510786e+00],\n",
       "       [  1.26446031e+00,   1.37635138e+00,   1.40158160e+00,\n",
       "          1.37128661e+00,   1.30716872e+00],\n",
       "       [  1.29910306e+00,   1.43095184e+00,   1.47560424e+00,\n",
       "          1.46275535e+00,   1.41352618e+00],\n",
       "       [  1.33374581e+00,   1.48611229e+00,   1.55115306e+00,\n",
       "          1.55706742e+00,   1.52431449e+00],\n",
       "       [  1.36838856e+00,   1.54183275e+00,   1.62824364e+00,\n",
       "          1.65428116e+00,   1.63967068e+00],\n",
       "       [  1.40303131e+00,   1.59811322e+00,   1.70689156e+00,\n",
       "          1.75445547e+00,   1.75973457e+00],\n",
       "       [  1.43767406e+00,   1.65495369e+00,   1.78711238e+00,\n",
       "          1.85764987e+00,   1.88464879e+00],\n",
       "       [  1.47231680e+00,   1.71235416e+00,   1.86892168e+00,\n",
       "          1.96392444e+00,   2.01455885e+00],\n",
       "       [  1.50695955e+00,   1.77031464e+00,   1.95233504e+00,\n",
       "          2.07333988e+00,   2.14961311e+00],\n",
       "       [  1.54160230e+00,   1.82883513e+00,   2.03736802e+00,\n",
       "          2.18595747e+00,   2.28996288e+00],\n",
       "       [  1.57624505e+00,   1.88791561e+00,   2.12403620e+00,\n",
       "          2.30183910e+00,   2.43576236e+00],\n",
       "       [  1.61088780e+00,   1.94755611e+00,   2.21235515e+00,\n",
       "          2.42104721e+00,   2.58716876e+00],\n",
       "       [  1.64553055e+00,   2.00775661e+00,   2.30234045e+00,\n",
       "          2.54364488e+00,   2.74434225e+00],\n",
       "       [  1.68017329e+00,   2.06851711e+00,   2.39400767e+00,\n",
       "          2.66969576e+00,   2.90744603e+00],\n",
       "       [  1.71481604e+00,   2.12983762e+00,   2.48737239e+00,\n",
       "          2.79926408e+00,   3.07664637e+00]])"
      ]
     },
     "execution_count": 55,
     "metadata": {},
     "output_type": "execute_result"
    }
   ],
   "source": [
    "train_x"
   ]
  },
  {
   "cell_type": "code",
   "execution_count": null,
   "metadata": {
    "collapsed": true
   },
   "outputs": [],
   "source": [
    "train_y"
   ]
  },
  {
   "cell_type": "markdown",
   "metadata": {},
   "source": [
    "#### Task 5"
   ]
  },
  {
   "cell_type": "code",
   "execution_count": 1,
   "metadata": {
    "collapsed": true
   },
   "outputs": [],
   "source": [
    "import numpy as np\n",
    "\n",
    "def gradient_descent(x, y, eta):\n",
    "    xd = np.shape(x)\n",
    "    yd = np.shape(y)\n",
    "    N = xd[1]\n",
    "    T = yd[0]\n",
    "    w = np.random.rand(N+1)\n",
    "    delta = np.zeros(N+1, dtype=float)\n",
    "    y_hat = np.zeros(T, dtype=float)\n",
    "    NUM_IT = 10000\n",
    "    for l in range(0, NUM_IT):\n",
    "        for k in range(0, T):\n",
    "            y_hat[k] = w[0]\n",
    "            for i in range(1, N + 1):\n",
    "                y_hat[k] = y_hat[k] + w[i] * x[k, i-1]\n",
    "        for k in range(0, T):            \n",
    "            delta[0] = delta[0] + (2 * (y[k,0] - y_hat[k]))/T             \n",
    "        for i in range(1, N+1):\n",
    "            for k in range(0, T):           \n",
    "                delta[i] = delta[i] + (2 * (y[k,0] - y_hat[k])*x[k, i-1])/T            \n",
    "        for i in range(0, N + 1):\n",
    "            w[i] = w[i] + eta * delta[i]\n",
    "    return w      "
   ]
  },
  {
   "cell_type": "code",
   "execution_count": 17,
   "metadata": {
    "collapsed": true
   },
   "outputs": [],
   "source": [
    "N = [100, 200, 400, 800]"
   ]
  },
  {
   "cell_type": "code",
   "execution_count": 66,
   "metadata": {
    "collapsed": false
   },
   "outputs": [],
   "source": [
    "gg = gradient_descent(x[1:100], t[1:100], 0.1 )"
   ]
  },
  {
   "cell_type": "code",
   "execution_count": 95,
   "metadata": {
    "collapsed": false
   },
   "outputs": [
    {
     "data": {
      "text/plain": [
       "array([ 0.48688206, -0.34627414, -0.2800533 , -0.2821349 , -0.45484186,\n",
       "       -0.06446944,  0.08900986,  0.97272394,  0.08415552,  0.77093833,\n",
       "       -1.06715617,  0.87990296,  0.12225419, -0.33719893, -0.15480025,\n",
       "       -0.55843005, -0.5732277 ,  0.60405835,  0.12262442,  0.45542859,\n",
       "        0.72172368,  0.35992743, -0.48357312,  0.12174477,  0.23074797,\n",
       "       -0.53714658,  0.17680842, -0.02498379, -0.97852981,  0.12085372,\n",
       "       -0.42486535,  0.19918381, -1.23904688, -0.13645888,  0.32066581,\n",
       "        0.22055352,  0.34302786, -0.61893889,  0.32760934,  0.22526623,\n",
       "        0.16851561,  0.13565083, -0.32834398, -0.39557582,  0.72364976,\n",
       "       -0.38273655, -0.29355351, -0.33536141, -0.7525716 , -0.34880453,\n",
       "        0.29144705, -0.46156574, -0.54931073,  0.57827972,  0.46480996,\n",
       "        0.78726126, -0.73209277, -0.4129305 , -0.66777045,  0.44770353,\n",
       "       -0.70675456, -0.0351882 ,  0.02276865,  0.83969786,  1.18069341])"
      ]
     },
     "execution_count": 95,
     "metadata": {},
     "output_type": "execute_result"
    }
   ],
   "source": [
    "gg"
   ]
  },
  {
   "cell_type": "code",
   "execution_count": 96,
   "metadata": {
    "collapsed": false
   },
   "outputs": [
    {
     "data": {
      "text/plain": [
       "array([ 0.48688206, -0.34627414, -0.2800533 , -0.2821349 , -0.45484186,\n",
       "       -0.06446944])"
      ]
     },
     "execution_count": 96,
     "metadata": {},
     "output_type": "execute_result"
    }
   ],
   "source": [
    "gg[0:6]"
   ]
  },
  {
   "cell_type": "code",
   "execution_count": 97,
   "metadata": {
    "collapsed": true
   },
   "outputs": [],
   "source": [
    "def getLinForecast(linParam, x):\n",
    "    # First element is the intercept\n",
    "    inter = linParam[0]\n",
    "    return inter + np.dot(linParam[1:len(linParam)], x)\n",
    "    "
   ]
  },
  {
   "cell_type": "code",
   "execution_count": 94,
   "metadata": {
    "collapsed": false
   },
   "outputs": [
    {
     "data": {
      "text/plain": [
       "-0.18599429869073092"
      ]
     },
     "execution_count": 94,
     "metadata": {},
     "output_type": "execute_result"
    }
   ],
   "source": [
    "getLinForecast(gg, x[3])"
   ]
  },
  {
   "cell_type": "code",
   "execution_count": 121,
   "metadata": {
    "collapsed": false
   },
   "outputs": [],
   "source": [
    "def getValErr(x_eval, N, mod):\n",
    "    val_error = []\n",
    "    for idx, val in enumerate(x_eval[1:N]):\n",
    "        resid = getLinForecast(mod, x_eval[idx]) - t_eval[idx]\n",
    "        val_error.append( (resid[0])**2 )\n",
    "\n",
    "    return sum(val_error)/(2*len(val_error))\n"
   ]
  },
  {
   "cell_type": "code",
   "execution_count": 129,
   "metadata": {
    "collapsed": false
   },
   "outputs": [
    {
     "data": {
      "text/plain": [
       "0.54789000463233895"
      ]
     },
     "execution_count": 129,
     "metadata": {},
     "output_type": "execute_result"
    }
   ],
   "source": [
    "getValErr(x_eval, 100, gg)"
   ]
  },
  {
   "cell_type": "code",
   "execution_count": null,
   "metadata": {
    "collapsed": true
   },
   "outputs": [],
   "source": []
  }
 ],
 "metadata": {
  "kernelspec": {
   "display_name": "Python 3",
   "language": "python",
   "name": "python3"
  },
  "language_info": {
   "codemirror_mode": {
    "name": "ipython",
    "version": 3
   },
   "file_extension": ".py",
   "mimetype": "text/x-python",
   "name": "python",
   "nbconvert_exporter": "python",
   "pygments_lexer": "ipython3",
   "version": "3.5.1"
  }
 },
 "nbformat": 4,
 "nbformat_minor": 0
}
