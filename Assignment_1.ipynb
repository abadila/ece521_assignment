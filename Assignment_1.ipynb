{
 "cells": [
  {
   "cell_type": "code",
   "execution_count": 2,
   "metadata": {
    "collapsed": false
   },
   "outputs": [],
   "source": [
    "import numpy as np\n",
    "import matplotlib as mt\n",
    "import matplotlib.pyplot as plt\n",
    "\n",
    "%matplotlib inline"
   ]
  },
  {
   "cell_type": "code",
   "execution_count": 4,
   "metadata": {
    "collapsed": false
   },
   "outputs": [],
   "source": [
    "import pandas"
   ]
  },
  {
   "cell_type": "code",
   "execution_count": 59,
   "metadata": {
    "collapsed": false
   },
   "outputs": [],
   "source": [
    "train_x = np.linspace(1.0, 10.0, num = 100)[:, np.newaxis]\n",
    "train_y = np.sin(train_x) + 0.1* np.power(train_x, 2) + 0.5 + np.random.randn(100, 1)\n",
    "\n",
    "with np.load(\"TINY_MNIST.npz\") as data:\n",
    "    x, t = data[\"x\"], data[\"t\"]\n",
    "    x_eval, t_eval = data[\"x_eval\"], data[\"t_eval\"]"
   ]
  },
  {
   "cell_type": "markdown",
   "metadata": {},
   "source": [
    "### k - nearest neighbours\n",
    "In this section, we will learn to implement the k-Nearest Neighbor (k-NN) algorithm on the Tiny MNIST dataset. We will also see the effect of the value of k as well as the training size for k-NN."
   ]
  },
  {
   "cell_type": "markdown",
   "metadata": {},
   "source": [
    "### Task 1 Training Size\n",
    "\n",
    "Set k = 1 and submit a 2-column table that lists the number of validation errors that you get versus the training size when the training size N is N ∈ {5, 50, 100, 200, 400, 800} (Use the first N points in the complete training dataset). In one sentence, summarize your observation about the effect of N on performance and whether you think large N or small N is best."
   ]
  },
  {
   "cell_type": "code",
   "execution_count": 6,
   "metadata": {
    "collapsed": false,
    "scrolled": true
   },
   "outputs": [],
   "source": [
    "# Define functions to get Euclidean distance\n",
    "\n",
    "def getEucDist(vec1, vec2):\n",
    "    return np.linalg.norm(vec1 - vec2)\n",
    "\n",
    "def getEucDistAll(vecToClass, vecs, resp):\n",
    "    arr = [] \n",
    "    for idx, val in enumerate(vecs):\n",
    "        arr.append([getEucDist(val, vecToClass), resp[idx][0]])\n",
    "    arr.sort(key=lambda x: x[0])\n",
    "    ed = np.asarray(arr)\n",
    "    return ed\n",
    "\n",
    "def getVote(sortedResp, K):\n",
    "    p1 = np.count_nonzero(sortedResp[0:K])/K\n",
    "    return p1"
   ]
  },
  {
   "cell_type": "markdown",
   "metadata": {},
   "source": [
    "### Task 2 Overfitting and Underfitting\n",
    "Submit a 2-column table that lists the number of validation errors that you get versus the values of k ∈ {1, 3, 5, 7, 21, 101, 401}. For this task, use the complete training set of N = 800. In one sentence, summarize your observation about the effect of k on performance and what the best value of k is."
   ]
  },
  {
   "cell_type": "code",
   "execution_count": 60,
   "metadata": {
    "collapsed": true
   },
   "outputs": [],
   "source": [
    "Nnei = [5, 50, 100, 200, 400, 800]\n",
    "kval = [1, 3, 5, 7, 21, 101, 401]"
   ]
  },
  {
   "cell_type": "code",
   "execution_count": 63,
   "metadata": {
    "collapsed": true
   },
   "outputs": [],
   "source": [
    "def getResid(n, k, x_val, tr, resp):\n",
    "    arr_comp = []\n",
    "    for idx, im in enumerate(x_val):\n",
    "        ed_iter = getEucDistAll(im, tr[0:n], resp[0:n])\n",
    "        arr_comp.append([resp[idx][0] , getVote(ed_iter[:,1], k ) > 0.49 ])\n",
    "    return arr_comp"
   ]
  },
  {
   "cell_type": "code",
   "execution_count": 61,
   "metadata": {
    "collapsed": false
   },
   "outputs": [],
   "source": [
    "def getPrecRecall(n, k, x_val, tr, resp):\n",
    "    res = getResid(n, k, x_val, tr, resp)\n",
    "    df = pandas.DataFrame(res)\n",
    "    df.columns = ['resp', 'forec']\n",
    "    \n",
    "    tps = len(df.ix[(df['resp']== 1) & (df['forec'] == 1) ])\n",
    "    fps = len(df.ix[(df['resp']== 0) & (df['forec'] == 1) ])\n",
    "    tns = len(df.ix[(df['resp']== 0) & (df['forec'] == 0) ])\n",
    "    fns = len(df.ix[(df['resp']== 1) & (df['forec'] == 0) ])\n",
    "    \n",
    "    prec = tps/(tps + fps)\n",
    "    reca = tps/(tps + fns)\n",
    "    f1 = 2*(prec*reca)/(prec + reca)\n",
    "    \n",
    "    arr_ret = pandas.DataFrame.transpose(pandas.DataFrame([n, k, fps + fps , prec, reca, f1 ]))\n",
    "    arr_ret.columns = ['n', 'k', 'val_err', 'prec', 'reca', 'f1']\n",
    "    return arr_ret"
   ]
  },
  {
   "cell_type": "markdown",
   "metadata": {},
   "source": [
    "We calculate the number of validation errors (val_err), but in addition we also examine the precision, recall and f1 scores of the algorithm. We see that the number of validation errors diminish as we increase n, but the precision to recall ratio remains the same. We should use the entire training set for training."
   ]
  },
  {
   "cell_type": "code",
   "execution_count": 64,
   "metadata": {
    "collapsed": false
   },
   "outputs": [
    {
     "data": {
      "text/html": [
       "<div>\n",
       "<table border=\"1\" class=\"dataframe\">\n",
       "  <thead>\n",
       "    <tr style=\"text-align: right;\">\n",
       "      <th></th>\n",
       "      <th>n</th>\n",
       "      <th>k</th>\n",
       "      <th>val_err</th>\n",
       "      <th>prec</th>\n",
       "      <th>reca</th>\n",
       "      <th>f1</th>\n",
       "    </tr>\n",
       "  </thead>\n",
       "  <tbody>\n",
       "    <tr>\n",
       "      <th>0</th>\n",
       "      <td>5</td>\n",
       "      <td>1</td>\n",
       "      <td>250</td>\n",
       "      <td>0.481328</td>\n",
       "      <td>0.580</td>\n",
       "      <td>0.526077</td>\n",
       "    </tr>\n",
       "    <tr>\n",
       "      <th>0</th>\n",
       "      <td>50</td>\n",
       "      <td>1</td>\n",
       "      <td>206</td>\n",
       "      <td>0.474490</td>\n",
       "      <td>0.465</td>\n",
       "      <td>0.469697</td>\n",
       "    </tr>\n",
       "    <tr>\n",
       "      <th>0</th>\n",
       "      <td>100</td>\n",
       "      <td>1</td>\n",
       "      <td>210</td>\n",
       "      <td>0.477612</td>\n",
       "      <td>0.480</td>\n",
       "      <td>0.478803</td>\n",
       "    </tr>\n",
       "    <tr>\n",
       "      <th>0</th>\n",
       "      <td>200</td>\n",
       "      <td>1</td>\n",
       "      <td>212</td>\n",
       "      <td>0.477833</td>\n",
       "      <td>0.485</td>\n",
       "      <td>0.481390</td>\n",
       "    </tr>\n",
       "    <tr>\n",
       "      <th>0</th>\n",
       "      <td>400</td>\n",
       "      <td>1</td>\n",
       "      <td>208</td>\n",
       "      <td>0.477387</td>\n",
       "      <td>0.475</td>\n",
       "      <td>0.476190</td>\n",
       "    </tr>\n",
       "    <tr>\n",
       "      <th>0</th>\n",
       "      <td>800</td>\n",
       "      <td>1</td>\n",
       "      <td>200</td>\n",
       "      <td>0.479167</td>\n",
       "      <td>0.460</td>\n",
       "      <td>0.469388</td>\n",
       "    </tr>\n",
       "  </tbody>\n",
       "</table>\n",
       "</div>"
      ],
      "text/plain": [
       "     n  k  val_err      prec   reca        f1\n",
       "0    5  1      250  0.481328  0.580  0.526077\n",
       "0   50  1      206  0.474490  0.465  0.469697\n",
       "0  100  1      210  0.477612  0.480  0.478803\n",
       "0  200  1      212  0.477833  0.485  0.481390\n",
       "0  400  1      208  0.477387  0.475  0.476190\n",
       "0  800  1      200  0.479167  0.460  0.469388"
      ]
     },
     "execution_count": 64,
     "metadata": {},
     "output_type": "execute_result"
    }
   ],
   "source": [
    "df_task1 = getPrecRecall(5, 1, x_eval, x, t).append(getPrecRecall(50, 1, x_eval, x, t)).append(getPrecRecall(100, 1, x_eval, x, t)).append(getPrecRecall(200, 1, x_eval, x, t)).append(getPrecRecall(400, 1, x_eval, x, t)).append(getPrecRecall(800, 1, x_eval, x, t))\n",
    "df_task1"
   ]
  },
  {
   "cell_type": "code",
   "execution_count": 81,
   "metadata": {
    "collapsed": false
   },
   "outputs": [
    {
     "data": {
      "text/plain": [
       "(190, 260)"
      ]
     },
     "execution_count": 81,
     "metadata": {},
     "output_type": "execute_result"
    },
    {
     "data": {
      "image/png": "[encoded data removed]",
      "text/plain": [
       "<matplotlib.figure.Figure at 0x10db12128>"
      ]
     },
     "metadata": {},
     "output_type": "display_data"
    }
   ],
   "source": [
    "tt = df_task1.plot(kind='bar', x = 'n', y = 'val_err')\n",
    "tt.set_ylim(190,260)"
   ]
  },
  {
   "cell_type": "markdown",
   "metadata": {},
   "source": [
    "Varying the number of neighbours k, we calculate the number of validation errors (val_err), but in addition we also examine the precision, recall and f1 scores of the algorithm. We see that the number of validation errors diminish as we increase k, but the precision to recall ratio remains the same. Thus we should use a lower number of k = 1 for efficiency."
   ]
  },
  {
   "cell_type": "code",
   "execution_count": 65,
   "metadata": {
    "collapsed": false
   },
   "outputs": [
    {
     "data": {
      "text/html": [
       "<div>\n",
       "<table border=\"1\" class=\"dataframe\">\n",
       "  <thead>\n",
       "    <tr style=\"text-align: right;\">\n",
       "      <th></th>\n",
       "      <th>n</th>\n",
       "      <th>k</th>\n",
       "      <th>val_err</th>\n",
       "      <th>prec</th>\n",
       "      <th>reca</th>\n",
       "      <th>f1</th>\n",
       "    </tr>\n",
       "  </thead>\n",
       "  <tbody>\n",
       "    <tr>\n",
       "      <th>0</th>\n",
       "      <td>800</td>\n",
       "      <td>1</td>\n",
       "      <td>200</td>\n",
       "      <td>0.479167</td>\n",
       "      <td>0.460</td>\n",
       "      <td>0.469388</td>\n",
       "    </tr>\n",
       "    <tr>\n",
       "      <th>0</th>\n",
       "      <td>800</td>\n",
       "      <td>3</td>\n",
       "      <td>208</td>\n",
       "      <td>0.480000</td>\n",
       "      <td>0.480</td>\n",
       "      <td>0.480000</td>\n",
       "    </tr>\n",
       "    <tr>\n",
       "      <th>0</th>\n",
       "      <td>800</td>\n",
       "      <td>5</td>\n",
       "      <td>210</td>\n",
       "      <td>0.475000</td>\n",
       "      <td>0.475</td>\n",
       "      <td>0.475000</td>\n",
       "    </tr>\n",
       "    <tr>\n",
       "      <th>0</th>\n",
       "      <td>800</td>\n",
       "      <td>7</td>\n",
       "      <td>208</td>\n",
       "      <td>0.477387</td>\n",
       "      <td>0.475</td>\n",
       "      <td>0.476190</td>\n",
       "    </tr>\n",
       "    <tr>\n",
       "      <th>0</th>\n",
       "      <td>800</td>\n",
       "      <td>21</td>\n",
       "      <td>210</td>\n",
       "      <td>0.477612</td>\n",
       "      <td>0.480</td>\n",
       "      <td>0.478803</td>\n",
       "    </tr>\n",
       "    <tr>\n",
       "      <th>0</th>\n",
       "      <td>800</td>\n",
       "      <td>101</td>\n",
       "      <td>210</td>\n",
       "      <td>0.467005</td>\n",
       "      <td>0.460</td>\n",
       "      <td>0.463476</td>\n",
       "    </tr>\n",
       "    <tr>\n",
       "      <th>0</th>\n",
       "      <td>800</td>\n",
       "      <td>401</td>\n",
       "      <td>196</td>\n",
       "      <td>0.494845</td>\n",
       "      <td>0.480</td>\n",
       "      <td>0.487310</td>\n",
       "    </tr>\n",
       "  </tbody>\n",
       "</table>\n",
       "</div>"
      ],
      "text/plain": [
       "     n    k  val_err      prec   reca        f1\n",
       "0  800    1      200  0.479167  0.460  0.469388\n",
       "0  800    3      208  0.480000  0.480  0.480000\n",
       "0  800    5      210  0.475000  0.475  0.475000\n",
       "0  800    7      208  0.477387  0.475  0.476190\n",
       "0  800   21      210  0.477612  0.480  0.478803\n",
       "0  800  101      210  0.467005  0.460  0.463476\n",
       "0  800  401      196  0.494845  0.480  0.487310"
      ]
     },
     "execution_count": 65,
     "metadata": {},
     "output_type": "execute_result"
    }
   ],
   "source": [
    "df_task2 = getPrecRecall(800, 1, x_eval, x, t).append(getPrecRecall(800, 3, x_eval, x, t)).append(getPrecRecall(800, 5, x_eval, x, t)).append(getPrecRecall(800, 7, x_eval, x, t)).append(getPrecRecall(800, 21, x_eval, x, t)).append(getPrecRecall(800, 101, x_eval, x, t)).append(getPrecRecall(800, 401, x_eval, x, t))\n",
    "df_task2"
   ]
  },
  {
   "cell_type": "code",
   "execution_count": 76,
   "metadata": {
    "collapsed": false
   },
   "outputs": [
    {
     "data": {
      "text/plain": [
       "(190, 220)"
      ]
     },
     "execution_count": 76,
     "metadata": {},
     "output_type": "execute_result"
    },
    {
     "data": {
      "image/png": "[encoded data removed]",
      "text/plain": [
       "<matplotlib.figure.Figure at 0x10d3506d8>"
      ]
     },
     "metadata": {},
     "output_type": "display_data"
    }
   ],
   "source": [
    "pp = df_task2.plot(kind='bar', x = 'k', y = 'val_err')\n",
    "pp.set_ylim(190,220)"
   ]
  },
  {
   "cell_type": "markdown",
   "metadata": {},
   "source": [
    "### Task 3 Linear Fit \n",
    "Use the linear regression algorithm to fit a line to the artificial dataset. Plot both the training data and the fitted line."
   ]
  },
  {
   "cell_type": "code",
   "execution_count": 19,
   "metadata": {
    "collapsed": false
   },
   "outputs": [
    {
     "data": {
      "image/png": "[encoded data removed]",
      "text/plain": [
       "<matplotlib.figure.Figure at 0x102a2ba90>"
      ]
     },
     "metadata": {},
     "output_type": "display_data"
    }
   ],
   "source": [
    "import numpy as np\n",
    "import matplotlib.pyplot as plt\n",
    "from gradient_descent import gradient_descent\n",
    "\n",
    "\n",
    "train_x = np.linspace (1.0 , 10.0 , num =100) [:, np.newaxis]\n",
    "train_y = np.sin( train_x ) + np.power ( train_x , 2) * 0.1 + np.random .randn (100 , 1) * 0.5\n",
    "yd = np.shape(train_y)\n",
    "T = yd[0]\n",
    "eta = 0.001\n",
    "plt.plot(train_x, train_y)\n",
    "w = gradient_descent(train_x, train_y, eta)\n",
    "train_y_p = np.zeros(T, dtype = float)\n",
    "for i in range(0, T):\n",
    "    train_y_p[i] = w[0] + w[1] * train_x[i]\n",
    "plt.plot(train_x, train_y_p)\n",
    "plt.show()\n"
   ]
  },
  {
   "cell_type": "markdown",
   "metadata": {},
   "source": [
    "We see that our linear regresion produces an acceptable fit on the training data."
   ]
  },
  {
   "cell_type": "markdown",
   "metadata": {},
   "source": [
    "### Task 4 Feature Space\n",
    "We can fit a better function to the data points by introducing non-linearity in our model. One way to do so is to map each input x to a high dimensional feature space of [1, x, x2, x3, x4, x5]\n",
    "2\n",
    "￼￼￼￼￼￼￼\n",
    "and then train a linear regression on top of the feature space. Note that in this case, you might have to normalize each dimension of the feature space before training your model. Use the above feature space and plot both the training data and the fitted curve. In one sentence, summarize your observation about the effect of non-linearity on performance."
   ]
  },
  {
   "cell_type": "code",
   "execution_count": 112,
   "metadata": {
    "collapsed": false
   },
   "outputs": [
    {
     "data": {
      "image/png": "[encoded data removed]",
      "text/plain": [
       "<matplotlib.figure.Figure at 0x10d233f60>"
      ]
     },
     "metadata": {},
     "output_type": "display_data"
    }
   ],
   "source": [
    "import numpy as np\n",
    "import matplotlib.pyplot as plt\n",
    "from gradient_descent import gradient_descent\n",
    "\n",
    "\n",
    "train_x_1 = np.linspace (1.0 , 10.0 , num =100) [:, np. newaxis]\n",
    "train_x_2 = [x**2 for x in train_x_1]\n",
    "train_x_3 = [x**3 for x in train_x_1]\n",
    "train_x_4 = [x**4 for x in train_x_1]\n",
    "train_x_5 = [x**5 for x in train_x_1]\n",
    "\n",
    "train_mean = np.zeros(5)\n",
    "train_mean[0] = np.mean(train_x_1)\n",
    "train_mean[1] = np.mean(train_x_2)\n",
    "train_mean[2] = np.mean(train_x_3)\n",
    "train_mean[3] = np.mean(train_x_4)\n",
    "train_mean[4] = np.mean(train_x_5)\n",
    "\n",
    "train_std = np.zeros(5)\n",
    "train_std[0] = np.std(train_x_1)\n",
    "train_std[1] = np.std(train_x_2)\n",
    "train_std[2] = np.std(train_x_3)\n",
    "train_std[3] = np.std(train_x_4)\n",
    "train_std[4] = np.std(train_x_5)\n",
    "\n",
    "train_x_1_n = [(x-train_mean[0])/train_std[0] for x in train_x_1]\n",
    "train_x_2_n = [(x-train_mean[1])/train_std[1] for x in train_x_2]\n",
    "train_x_3_n = [(x-train_mean[2])/train_std[2] for x in train_x_3]\n",
    "train_x_4_n = [(x-train_mean[3])/train_std[3] for x in train_x_4]\n",
    "train_x_5_n = [(x-train_mean[4])/train_std[4] for x in train_x_5]\n",
    "\n",
    "train_x = np.zeros((100,5))\n",
    "\n",
    "train_x[:, 0] = train_x_1_n\n",
    "train_x[:, 1] = train_x_2_n\n",
    "train_x[:, 2] = train_x_3_n\n",
    "train_x[:, 3] = train_x_4_n\n",
    "train_x[:, 4] = train_x_5_n\n",
    "\n",
    "train_y = np.sin( train_x_1 ) + np.power ( train_x_1 , 2) * 0.1 + np.random .randn (100 , 1) * 0.5\n",
    "eta = 0.001\n",
    "plt.plot(range(0,len(train_y)), train_y)\n",
    "\n",
    "eta =  0.05\n",
    "w = gradient_descent(train_x, train_y, eta)\n",
    "train_y_p = np.zeros(100)\n",
    "\n",
    "for i in range(0, 100):\n",
    "    train_y_p[i] = w[0]\n",
    "    for j in range(1, 6):\n",
    "        train_y_p[i] = train_y_p[i] + w[j] * ((train_x_1[i] ** j - train_mean[j-1])/train_std[j-1])\n",
    "\n",
    "plt.plot(range(0,len(train_y)), train_y_p)\n",
    "plt.show()"
   ]
  },
  {
   "cell_type": "markdown",
   "metadata": {},
   "source": [
    "We see that the normalized high dimensional space regressions prodoces a more accurate fit on the training data."
   ]
  },
  {
   "cell_type": "markdown",
   "metadata": {},
   "source": [
    "### Task 5 Training Size"
   ]
  },
  {
   "cell_type": "code",
   "execution_count": 49,
   "metadata": {
    "collapsed": true
   },
   "outputs": [],
   "source": [
    "import numpy as np\n",
    "\n",
    "def gradient_descent(x, y, eta):\n",
    "    xd = np.shape(x)\n",
    "    yd = np.shape(y)\n",
    "    N = xd[1]\n",
    "    T = yd[0]\n",
    "    w = np.random.rand(N+1)\n",
    "    y_hat = np.zeros(T, dtype=float)\n",
    "    NUM_IT = 100\n",
    "    for l in range(0, NUM_IT):\n",
    "        for k in range(0, T):\n",
    "            y_hat[k] = w[0]\n",
    "            for i in range(1, N + 1):\n",
    "                y_hat[k] = y_hat[k] + w[i] * x[k, i-1]\n",
    "        delta = np.zeros(N+1, dtype=float)\n",
    "        for k in range(0, T):            \n",
    "            delta[0] = delta[0] + (2 * (y[k,0] - y_hat[k]))/T             \n",
    "        for i in range(1, N+1):\n",
    "            for k in range(0, T):           \n",
    "                delta[i] = delta[i] + (2 * (y[k,0] - y_hat[k])*x[k, i-1])/T\n",
    "        for i in range(0, N + 1):\n",
    "            w[i] = w[i] + eta * delta[i]\n",
    "    return w          "
   ]
  },
  {
   "cell_type": "code",
   "execution_count": 22,
   "metadata": {
    "collapsed": true
   },
   "outputs": [],
   "source": [
    "N = [100, 200, 400, 800]"
   ]
  },
  {
   "cell_type": "code",
   "execution_count": 25,
   "metadata": {
    "collapsed": true
   },
   "outputs": [],
   "source": [
    "def getLinForecast(linParam, x):\n",
    "    # First element is the intercept\n",
    "    inter = linParam[0]\n",
    "    return inter + np.dot(linParam[1:len(linParam)], x)\n",
    "    \n",
    "def getValErr(x_eval, N, mod):\n",
    "    val_error = []\n",
    "    for idx, val in enumerate(x_eval[1:N]):\n",
    "        resid = getLinForecast(mod, x_eval[idx]) - t_eval[idx]\n",
    "        val_error.append( (resid[0])**2 )\n",
    "\n",
    "    return sum(val_error)/(2*len(val_error))"
   ]
  },
  {
   "cell_type": "code",
   "execution_count": 41,
   "metadata": {
    "collapsed": false
   },
   "outputs": [],
   "source": [
    "gg = gradient_descent(x[1:100], t[1:100], 0.1, 2000 )\n"
   ]
  },
  {
   "cell_type": "code",
   "execution_count": 35,
   "metadata": {
    "collapsed": false
   },
   "outputs": [
    {
     "data": {
      "text/plain": [
       "51.016798967766988"
      ]
     },
     "execution_count": 35,
     "metadata": {},
     "output_type": "execute_result"
    }
   ],
   "source": [
    "getValErr(x_eval, len(x_eval), gg) "
   ]
  },
  {
   "cell_type": "code",
   "execution_count": 50,
   "metadata": {
    "collapsed": false
   },
   "outputs": [],
   "source": [
    "valErrs = []\n",
    "eta = 0.1\n",
    "iter_max = 2000\n",
    "\n",
    "for n in N:\n",
    "    gg = gradient_descent(x[1:n], t[1:n], eta)\n",
    "    vl = getValErr(x_eval, len(x_eval), gg)\n",
    "    valErrs.append([n, vl])"
   ]
  },
  {
   "cell_type": "code",
   "execution_count": 51,
   "metadata": {
    "collapsed": false
   },
   "outputs": [
    {
     "data": {
      "text/html": [
       "<div>\n",
       "<table border=\"1\" class=\"dataframe\">\n",
       "  <thead>\n",
       "    <tr style=\"text-align: right;\">\n",
       "      <th></th>\n",
       "      <th>n</th>\n",
       "      <th>Validation Error</th>\n",
       "    </tr>\n",
       "  </thead>\n",
       "  <tbody>\n",
       "    <tr>\n",
       "      <th>0</th>\n",
       "      <td>100</td>\n",
       "      <td>0.110093</td>\n",
       "    </tr>\n",
       "    <tr>\n",
       "      <th>1</th>\n",
       "      <td>200</td>\n",
       "      <td>0.089638</td>\n",
       "    </tr>\n",
       "    <tr>\n",
       "      <th>2</th>\n",
       "      <td>400</td>\n",
       "      <td>0.078058</td>\n",
       "    </tr>\n",
       "    <tr>\n",
       "      <th>3</th>\n",
       "      <td>800</td>\n",
       "      <td>0.093623</td>\n",
       "    </tr>\n",
       "  </tbody>\n",
       "</table>\n",
       "</div>"
      ],
      "text/plain": [
       "     n  Validation Error\n",
       "0  100          0.110093\n",
       "1  200          0.089638\n",
       "2  400          0.078058\n",
       "3  800          0.093623"
      ]
     },
     "execution_count": 51,
     "metadata": {},
     "output_type": "execute_result"
    }
   ],
   "source": [
    "df_vl = pandas.DataFrame(valErrs)\n",
    "df_vl.columns = ['n', 'Validation Error']\n",
    "df_vl"
   ]
  },
  {
   "cell_type": "markdown",
   "metadata": {},
   "source": [
    "#### Task 6"
   ]
  },
  {
   "cell_type": "code",
   "execution_count": 52,
   "metadata": {
    "collapsed": false
   },
   "outputs": [
    {
     "data": {
      "image/png": "[encoded data removed]",
      "text/plain": [
       "<matplotlib.figure.Figure at 0x10bc27400>"
      ]
     },
     "metadata": {},
     "output_type": "display_data"
    }
   ],
   "source": [
    "import matplotlib.pyplot as plt\n",
    "from reg_gradient_descent import reg_gradient_descent\n",
    "\n",
    "with np.load (\"TINY_MNIST.npz\") as data :\n",
    "    x, t = data [\"x\"], data[\"t\"]\n",
    "    x_eval , t_eval = data [\"x_eval\"], data [\"t_eval\"] \n",
    "train_x = x[0:50,:]\n",
    "train_t = t[0:50]\n",
    "train_x_shape = np.shape(train_x)\n",
    "x_eval_shape = np.shape(x_eval)\n",
    "T = x_eval_shape[0]\n",
    "N = train_x_shape[1]\n",
    "M = train_x_shape[0]\n",
    "eta = 0.1\n",
    "NUM_IT = [1, 10, 100, 1000, 5000] \n",
    "shape_NUM_IT = np.shape(NUM_IT)\n",
    "L = shape_NUM_IT[0] \n",
    "error = np.zeros((L, 3))\n",
    "for i in range(0, L):\n",
    "    w = reg_gradient_descent(train_x, train_t, eta, 0, NUM_IT[i])\n",
    "    error[i, 0] = NUM_IT[i]\n",
    "    for j in range(0, M):   \n",
    "        t_predicted_train = np.dot(w[1:N+1], np.transpose(train_x[j, :])) + w[0]  \n",
    "        if t_predicted_train <= 0.5:\n",
    "            t_predicted_train = 0\n",
    "        else:\n",
    "            t_predicted_train = 1   \n",
    "        if t_predicted_train != train_t[j]:\n",
    "            error[i, 1] = error[i, 1] + 1 \n",
    "    for j in range(0, T):   \n",
    "        t_predicted_eval = np.dot(w[1:N+1], np.transpose(x_eval[j, :])) + w[0]  \n",
    "        if t_predicted_eval <= 0.5:\n",
    "            t_predicted_eval = 0\n",
    "        else:\n",
    "            t_predicted_eval = 1   \n",
    "        if t_predicted_eval != t_eval[j]:\n",
    "            error[i, 2] = error[i, 2] + 1              \n"
   ]
  },
  {
   "cell_type": "code",
   "execution_count": 53,
   "metadata": {
    "collapsed": false
   },
   "outputs": [
    {
     "data": {
      "image/png": "[encoded data removed]",
      "text/plain": [
       "<matplotlib.figure.Figure at 0x10bca6ef0>"
      ]
     },
     "metadata": {},
     "output_type": "display_data"
    }
   ],
   "source": [
    "plt.plot(error[:, 0], error[:, 1])\n",
    "plt.title('Number of Training Errors vs. Number of Epochs')\n",
    "plt.show()"
   ]
  },
  {
   "cell_type": "code",
   "execution_count": 54,
   "metadata": {
    "collapsed": false
   },
   "outputs": [
    {
     "data": {
      "text/plain": [
       "<function matplotlib.pyplot.show>"
      ]
     },
     "execution_count": 54,
     "metadata": {},
     "output_type": "execute_result"
    },
    {
     "data": {
      "image/png": "[encoded data removed]",
      "text/plain": [
       "<matplotlib.figure.Figure at 0x10bc6b390>"
      ]
     },
     "metadata": {},
     "output_type": "display_data"
    }
   ],
   "source": [
    "plt.plot(error[:, 0], error[:, 2])\n",
    "plt.title('Number of Validation Errors vs. Number of Epochs')\n",
    "plt.show"
   ]
  },
  {
   "cell_type": "code",
   "execution_count": 55,
   "metadata": {
    "collapsed": false
   },
   "outputs": [
    {
     "name": "stdout",
     "output_type": "stream",
     "text": [
      "0.000000\t71\n",
      "0.000100\t73\n",
      "0.001000\t60\n",
      "0.010000\t39\n",
      "0.100000\t47\n",
      "0.500000\t79\n"
     ]
    }
   ],
   "source": [
    "import matplotlib.pyplot as plt\n",
    "from reg_gradient_descent import reg_gradient_descent\n",
    "\n",
    "with np.load (\"TINY_MNIST.npz\") as data :\n",
    "    x, t = data [\"x\"], data[\"t\"]\n",
    "    x_eval , t_eval = data [\"x_eval\"], data [\"t_eval\"] \n",
    "train_x = x[0:50,:]\n",
    "train_t = t[0:50]\n",
    "lamda = [0, 0.0001, 0.001, 0.01, 0.1, 0.5]\n",
    "lamda_shape = np.shape(lamda)\n",
    "train_x_shape = np.shape(train_x)\n",
    "x_eval_shape = np.shape(x_eval)\n",
    "T = x_eval_shape[0]\n",
    "L = lamda_shape[0]\n",
    "N = train_x_shape[1]\n",
    "eta = 0.1\n",
    "error = np.zeros((L, 2))\n",
    "NUM_IT = 5000 \n",
    "for i in range(0, L): \n",
    "    w = reg_gradient_descent(train_x, train_t, eta, lamda[i], NUM_IT)\n",
    "    error[i, 0] = lamda[i]\n",
    "    for j in range(0, T):   \n",
    "        t_predicted = np.dot(w[1:N+1], np.transpose(x_eval[j, :])) + w[0]  \n",
    "        if t_predicted <= 0.5:\n",
    "            t_predicted = 0\n",
    "        else:\n",
    "            t_predicted = 1   \n",
    "        if t_predicted != t_eval[j]:\n",
    "            error[i, 1] = error[i, 1] + 1              \n",
    "# for i in range(0, L):\n",
    "    # print(\"%f\\t%d\" % (error[i, 0], error[i, 1]))"
   ]
  },
  {
   "cell_type": "code",
   "execution_count": 57,
   "metadata": {
    "collapsed": false
   },
   "outputs": [
    {
     "data": {
      "text/html": [
       "<div>\n",
       "<table border=\"1\" class=\"dataframe\">\n",
       "  <thead>\n",
       "    <tr style=\"text-align: right;\">\n",
       "      <th></th>\n",
       "      <th>n</th>\n",
       "      <th>Validation Error</th>\n",
       "    </tr>\n",
       "  </thead>\n",
       "  <tbody>\n",
       "    <tr>\n",
       "      <th>0</th>\n",
       "      <td>0.0000</td>\n",
       "      <td>71</td>\n",
       "    </tr>\n",
       "    <tr>\n",
       "      <th>1</th>\n",
       "      <td>0.0001</td>\n",
       "      <td>73</td>\n",
       "    </tr>\n",
       "    <tr>\n",
       "      <th>2</th>\n",
       "      <td>0.0010</td>\n",
       "      <td>60</td>\n",
       "    </tr>\n",
       "    <tr>\n",
       "      <th>3</th>\n",
       "      <td>0.0100</td>\n",
       "      <td>39</td>\n",
       "    </tr>\n",
       "    <tr>\n",
       "      <th>4</th>\n",
       "      <td>0.1000</td>\n",
       "      <td>47</td>\n",
       "    </tr>\n",
       "    <tr>\n",
       "      <th>5</th>\n",
       "      <td>0.5000</td>\n",
       "      <td>79</td>\n",
       "    </tr>\n",
       "  </tbody>\n",
       "</table>\n",
       "</div>"
      ],
      "text/plain": [
       "        n  Validation Error\n",
       "0  0.0000                71\n",
       "1  0.0001                73\n",
       "2  0.0010                60\n",
       "3  0.0100                39\n",
       "4  0.1000                47\n",
       "5  0.5000                79"
      ]
     },
     "execution_count": 57,
     "metadata": {},
     "output_type": "execute_result"
    }
   ],
   "source": [
    "df_err = pandas.DataFrame(error)\n",
    "df_err.columns = ['n', 'Validation Error']\n",
    "df_err"
   ]
  },
  {
   "cell_type": "code",
   "execution_count": null,
   "metadata": {
    "collapsed": true
   },
   "outputs": [],
   "source": []
  }
 ],
 "metadata": {
  "kernelspec": {
   "display_name": "Python 3",
   "language": "python",
   "name": "python3"
  },
  "language_info": {
   "codemirror_mode": {
    "name": "ipython",
    "version": 3
   },
   "file_extension": ".py",
   "mimetype": "text/x-python",
   "name": "python",
   "nbconvert_exporter": "python",
   "pygments_lexer": "ipython3",
   "version": "3.5.1"
  }
 },
 "nbformat": 4,
 "nbformat_minor": 0
}
