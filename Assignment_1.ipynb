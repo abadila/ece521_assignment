{
 "cells": [
  {
   "cell_type": "code",
   "execution_count": 8,
   "metadata": {
    "collapsed": false
   },
   "outputs": [],
   "source": [
    "import numpy as np\n",
    "import matplotlib as mt\n",
    "import matplotlib.pyplot as plt\n",
    "\n",
    "%matplotlib inline"
   ]
  },
  {
   "cell_type": "code",
   "execution_count": 28,
   "metadata": {
    "collapsed": false
   },
   "outputs": [
    {
     "name": "stderr",
     "output_type": "stream",
     "text": [
      "ERROR: Line magic function `%conda` not found.\n"
     ]
    }
   ],
   "source": [
    "%conda install pandas"
   ]
  },
  {
   "cell_type": "code",
   "execution_count": 27,
   "metadata": {
    "collapsed": false
   },
   "outputs": [
    {
     "ename": "ImportError",
     "evalue": "No module named 'pandas'",
     "output_type": "error",
     "traceback": [
      "\u001b[0;31m---------------------------------------------------------------------------\u001b[0m",
      "\u001b[0;31mImportError\u001b[0m                               Traceback (most recent call last)",
      "\u001b[0;32m<ipython-input-27-d6ac987968b6>\u001b[0m in \u001b[0;36m<module>\u001b[0;34m()\u001b[0m\n\u001b[0;32m----> 1\u001b[0;31m \u001b[0;32mimport\u001b[0m \u001b[0mpandas\u001b[0m\u001b[0;34m\u001b[0m\u001b[0m\n\u001b[0m",
      "\u001b[0;31mImportError\u001b[0m: No module named 'pandas'"
     ]
    }
   ],
   "source": [
    "import pandas"
   ]
  },
  {
   "cell_type": "code",
   "execution_count": 9,
   "metadata": {
    "collapsed": false
   },
   "outputs": [],
   "source": [
    "train_x = np.linspace(1.0, 10.0, num = 100)[:, np.newaxis]\n",
    "train_y = np.sin(train_x) + 0.1* np.power(train_x, 2) + 0.5 + np.random.randn(100, 1)\n",
    "\n",
    "with np.load(\"TINY_MNIST.npz\") as data:\n",
    "    x, t = data[\"x\"], data[\"t\"]\n",
    "    x_eval, t_eval = data[\"x_eval\"], data[\"t_eval\"]\n",
    "    "
   ]
  },
  {
   "cell_type": "code",
   "execution_count": 35,
   "metadata": {
    "collapsed": false,
    "scrolled": true
   },
   "outputs": [],
   "source": [
    "# Task 3\n",
    "# get Euclidean distance\n",
    "\n",
    "def getEucDist(vec1, vec2):\n",
    "    return np.linalg.norm(vec1 - vec2)\n",
    "\n",
    "def getEucDistAll(vecToClass, vecLabel, resp):\n",
    "    arr = [] \n",
    "    for idx, val in enumerate(x):\n",
    "        arr.append([getEucDist(val, x_eval[1]), t[idx][0]])\n",
    "        # arr.append(getEucDist(val, x_eval[1]))\n",
    "    return arr"
   ]
  },
  {
   "cell_type": "code",
   "execution_count": 36,
   "metadata": {
    "collapsed": false
   },
   "outputs": [],
   "source": [
    "eucDists = getEucDistAll(x[1], x, t)\n",
    "eucDists.sort(key=lambda x: x[0])\n",
    "ed = np.asarray(eucDists)"
   ]
  },
  {
   "cell_type": "code",
   "execution_count": 64,
   "metadata": {
    "collapsed": false
   },
   "outputs": [
    {
     "data": {
      "text/plain": [
       "array([ 1.13070774,  1.20469913,  1.3181047 ,  1.37375398,  1.50562279,\n",
       "        1.55267511,  1.56735446,  1.57578552,  1.6011246 ,  1.63193137,\n",
       "        1.65387424,  1.65822194,  1.65903586,  1.66706329,  1.67725967,\n",
       "        1.69770433,  1.72838075,  1.75610364,  1.7583515 ,  1.76357591,\n",
       "        1.76428456,  1.76748409,  1.77547177,  1.77901658,  1.79593987,\n",
       "        1.80091643,  1.80612846,  1.81179469,  1.81686543,  1.82211416,\n",
       "        1.85550532,  1.88475463,  1.89560017,  1.89897341,  1.91934885,\n",
       "        1.92301846,  1.92626582,  1.93540693,  1.93951025,  1.95007692,\n",
       "        1.9515891 ,  1.95634864,  1.96484096,  1.96522263,  1.97544932,\n",
       "        1.97570241,  1.97974746,  1.98113604,  1.98378426,  1.99341416,\n",
       "        2.0030976 ,  2.01213817,  2.01419959,  2.0179445 ,  2.04494499,\n",
       "        2.04543394,  2.04843843,  2.05009756,  2.05092662,  2.05433688,\n",
       "        2.05533452,  2.05601556,  2.06157707,  2.06254697,  2.06518764,\n",
       "        2.07258293,  2.08609683,  2.08947362,  2.09873772,  2.10159463,\n",
       "        2.10988151,  2.11061602,  2.11910358,  2.12070743,  2.12077816,\n",
       "        2.12969481,  2.13007042,  2.14133136,  2.14219514,  2.14256855,\n",
       "        2.14487762,  2.15582931,  2.15682637,  2.16335388,  2.16379297,\n",
       "        2.17062203,  2.17559187,  2.17690147,  2.19070765,  2.1917801 ,\n",
       "        2.20855156,  2.20993213,  2.21205787,  2.21230649,  2.21925663,\n",
       "        2.22058551,  2.227218  ,  2.23282332,  2.23349502,  2.23517337,\n",
       "        2.23642572,  2.24220873,  2.24492762,  2.2463526 ,  2.25002222,\n",
       "        2.2525763 ,  2.25350838,  2.26825924,  2.27257563,  2.27560981,\n",
       "        2.28796853,  2.29514705,  2.2961054 ,  2.30486442,  2.30668593,\n",
       "        2.3149298 ,  2.31564246,  2.31581519,  2.31775754,  2.32036635,\n",
       "        2.32935613,  2.32995708,  2.33143732,  2.33858932,  2.34693417,\n",
       "        2.34695547,  2.35063821,  2.35221173,  2.35446385,  2.35654408,\n",
       "        2.35911   ,  2.35934313,  2.36133437,  2.37389975,  2.37575251,\n",
       "        2.37598401,  2.3767625 ,  2.37846589,  2.37892833,  2.38411409,\n",
       "        2.38442865,  2.38662942,  2.38700649,  2.39196572,  2.39211204,\n",
       "        2.39862461,  2.40072906,  2.40110391,  2.40387188,  2.40441261,\n",
       "        2.40547293,  2.40686518,  2.40806977,  2.41308931,  2.4165885 ,\n",
       "        2.42899156,  2.43034977,  2.43102859,  2.43337215,  2.43417337,\n",
       "        2.43829859,  2.43905719,  2.44163879,  2.44192547,  2.44208927,\n",
       "        2.44401309,  2.44691643,  2.44930602,  2.4529574 ,  2.45379298,\n",
       "        2.45694933,  2.46716436,  2.46724543,  2.46969634,  2.46971658,\n",
       "        2.46979756,  2.46989878,  2.47406548,  2.47428778,  2.47713544,\n",
       "        2.47905224,  2.48078617,  2.48149149,  2.48282098,  2.48702634,\n",
       "        2.49309045,  2.49395269,  2.49773898,  2.4985796 ,  2.50014   ,\n",
       "        2.50233891,  2.50373721,  2.50601277,  2.50691045,  2.50695034,\n",
       "        2.50697028,  2.50838594,  2.50884436,  2.51025895,  2.51029879,\n",
       "        2.51071703,  2.5111352 ,  2.51246891,  2.51334439,  2.51678366,\n",
       "        2.51960314,  2.52071418,  2.52109103,  2.52190404,  2.52883372,\n",
       "        2.52907098,  2.52926867,  2.52930821,  2.53069161,  2.53465974,\n",
       "        2.53523174,  2.53582334,  2.53810953,  2.53984251,  2.54275441,\n",
       "        2.54468073,  2.54509332,  2.54762635,  2.5479011 ,  2.5481562 ,\n",
       "        2.55011764,  2.55376193,  2.55434923,  2.55616901,  2.55759653,\n",
       "        2.55783111,  2.55937492,  2.56031248,  2.56078113,  2.56273292,\n",
       "        2.56630084,  2.5674501 ,  2.56793692,  2.57202255,  2.5733247 ,\n",
       "        2.57382983,  2.57825522,  2.58215027,  2.58443417,  2.58573007,\n",
       "        2.58733454,  2.59784526,  2.59792225,  2.59911523,  2.59926913,\n",
       "        2.60251801,  2.60295985,  2.60355526,  2.60368969,  2.60509117,\n",
       "        2.60539824,  2.60687552,  2.60722074,  2.61103428,  2.61396251,\n",
       "        2.61801451,  2.61973281,  2.6197519 ,  2.62057246,  2.62272759,\n",
       "        2.62369968,  2.62608073,  2.63332489,  2.63850336,  2.63861706,\n",
       "        2.63956436,  2.6399053 ,  2.63998106,  2.64058706,  2.64295289,\n",
       "        2.64611035,  2.65024527,  2.65090551,  2.653036  ,  2.6542984 ,\n",
       "        2.65550372,  2.65633206,  2.65808202,  2.6591352 ,  2.66186025,\n",
       "        2.66358781,  2.66366289,  2.66413213,  2.66934449,  2.67018726,\n",
       "        2.67202171,  2.67209656,  2.67318162,  2.67336866,  2.67486448,\n",
       "        2.67579895,  2.6796455 ,  2.67994403,  2.681604  ,  2.68218195,\n",
       "        2.68344927,  2.68369149,  2.68458563,  2.68488361,  2.68609382,\n",
       "        2.68843821,  2.68986989,  2.69156089,  2.69247098,  2.6931023 ,\n",
       "        2.69351072,  2.69612685,  2.69949995,  2.70035183,  2.7009813 ,\n",
       "        2.70246184,  2.70253585,  2.70338676,  2.70362719,  2.70510628,\n",
       "        2.70543897,  2.70712024,  2.70878201,  2.70905888,  2.71      ,\n",
       "        2.710535  ,  2.71136497,  2.71136497,  2.71589764,  2.71777483,\n",
       "        2.71806917,  2.72073519,  2.72113947,  2.72119459,  2.72121296,\n",
       "        2.72183761,  2.72216825,  2.72238866,  2.72758135,  2.72792962,\n",
       "        2.72851608,  2.72879094,  2.73241651,  2.73738927,  2.73802849,\n",
       "        2.73811979,  2.73853976,  2.7387771 ,  2.73905093,  2.74370188,\n",
       "        2.74384766,  2.74386589,  2.74468577,  2.74778092,  2.74850869,\n",
       "        2.7488725 ,  2.75072718,  2.75076353,  2.75287123,  2.75635629,\n",
       "        2.75709993,  2.7592209 ,  2.76068832,  2.76141268,  2.761811  ,\n",
       "        2.76239027,  2.76369318,  2.76747177,  2.7675079 ,  2.77131738,\n",
       "        2.77312099,  2.77319311,  2.77447292,  2.77586023,  2.77625647,\n",
       "        2.77852479,  2.77982014,  2.78098903,  2.78172608,  2.78176203,\n",
       "        2.782427  ,  2.78445686,  2.78510323,  2.78818938,  2.78901416,\n",
       "        2.79109298,  2.79401145,  2.79626537,  2.79633689,  2.79647993,\n",
       "        2.7975525 ,  2.80051781,  2.80053566,  2.80053566,  2.80069634,\n",
       "        2.80699127,  2.8110852 ,  2.81144091,  2.81250778,  2.81359201,\n",
       "        2.81426722,  2.81662919,  2.81861668,  2.81898918,  2.82007092,\n",
       "        2.82085094,  2.82311884,  2.82669418,  2.82766688,  2.82800283,\n",
       "        2.82803819,  2.82899275,  2.82978798,  2.82978798,  2.83098923,\n",
       "        2.83162498,  2.8339019 ,  2.83427239,  2.83466047,  2.83471339,\n",
       "        2.83818604,  2.83913719,  2.84163685,  2.84504833,  2.84522407,\n",
       "        2.84599719,  2.84706867,  2.84738477,  2.84852593,  2.84884187,\n",
       "        2.84892962,  2.85518826,  2.85718393,  2.85783135,  2.85818124,\n",
       "        2.85912574,  2.86045451,  2.86223689,  2.86225436,  2.86298795,\n",
       "        2.86328483,  2.86426256,  2.86565874,  2.86642635,  2.86846649,\n",
       "        2.86923335,  2.86980836,  2.87104511,  2.87193315,  2.87576077,\n",
       "        2.87718613,  2.87722088,  2.87727301,  2.87828074,  2.88156208,\n",
       "        2.88438902,  2.88849442,  2.88948092,  2.8901211 ,  2.89217911,\n",
       "        2.89242113,  2.89307795,  2.89406289,  2.8943393 ,  2.89475388,\n",
       "        2.89763697,  2.89874111,  2.90029309,  2.90034481,  2.90070681,\n",
       "        2.90184424,  2.90444487,  2.91070438,  2.91355453,  2.91400069,\n",
       "        2.91862982,  2.91914371,  2.92077045,  2.92166049,  2.92340555,\n",
       "        2.92667046,  2.92677297,  2.93069958,  2.93109195,  2.93669883,\n",
       "        2.94093523,  2.94249894,  2.94292372,  2.94552203,  2.94711724,\n",
       "        2.94801628,  2.9497288 ,  2.95308313,  2.95714389,  2.95815821,\n",
       "        2.95880043,  2.96045605,  2.96162118,  2.96167183,  2.96401754,\n",
       "        2.96452357,  2.96636141,  2.96779379,  2.96796226,  2.96850131,\n",
       "        2.9700505 ,  2.97116139,  2.97319693,  2.9745756 ,  2.97956373,\n",
       "        2.98125812,  2.98229777,  2.98494556,  2.98600067,  2.9884946 ,\n",
       "        2.98979932,  2.99068554,  2.99167177,  2.99340943,  2.99451165,\n",
       "        2.99512938,  2.99985   ,  3.00424699,  3.00472961,  3.00644308,\n",
       "        3.00744077,  3.00928563,  3.00931886,  3.01011628,  3.01136182,\n",
       "        3.01247407,  3.01267323,  3.0149461 ,  3.01844331,  3.02008278,\n",
       "        3.02033111,  3.02049665,  3.0207946 ,  3.02287942,  3.02565695,\n",
       "        3.02742465,  3.02793659,  3.0280852 ,  3.0350453 ,  3.03532535,\n",
       "        3.03631355,  3.03825608,  3.04090447,  3.04133195,  3.04264687,\n",
       "        3.04374769,  3.04460178,  3.04568547,  3.04858984,  3.05137674,\n",
       "        3.05145867,  3.05296577,  3.05445576,  3.05635404,  3.05815304,\n",
       "        3.06057184,  3.06276019,  3.06316829,  3.06356002,  3.06356002,\n",
       "        3.0642291 ,  3.06512642,  3.06661051,  3.0679146 ,  3.06822424,\n",
       "        3.06895748,  3.06952765,  3.06959281,  3.07004886,  3.07071653,\n",
       "        3.07104217,  3.07369484,  3.07408523,  3.07418282,  3.07454062,\n",
       "        3.07478455,  3.07835995,  3.07970778,  3.08181765,  3.08212589,\n",
       "        3.08459073,  3.0847042 ,  3.08742611,  3.08889948,  3.09200582,\n",
       "        3.09258791,  3.10148352,  3.10222501,  3.10444842,  3.10956589,\n",
       "        3.11294073,  3.11791597,  3.11849323,  3.11855736,  3.12120169,\n",
       "        3.1213779 ,  3.1215541 ,  3.12331555,  3.125044  ,  3.12592386,\n",
       "        3.12766686,  3.1291053 ,  3.13614413,  3.13679773,  3.13724401,\n",
       "        3.1394904 ,  3.14125771,  3.14261038,  3.14402608,  3.1441374 ,\n",
       "        3.14617228,  3.1466649 ,  3.14736398,  3.14761815,  3.14764992,\n",
       "        3.14807878,  3.14868226,  3.14901572,  3.14920625,  3.15279241,\n",
       "        3.15680218,  3.16003165,  3.16088595,  3.16208792,  3.16297328,\n",
       "        3.16392162,  3.16551734,  3.1658806 ,  3.17007886,  3.17022081,\n",
       "        3.17398803,  3.17855313,  3.17973269,  3.18705193,  3.19596621,\n",
       "        3.19846838,  3.19871849,  3.19898421,  3.2016402 ,  3.20234289,\n",
       "        3.20287371,  3.2052457 ,  3.20547968,  3.207538  ,  3.20763152,\n",
       "        3.20947036,  3.21230447,  3.21673748,  3.21714159,  3.21766996,\n",
       "        3.21958072,  3.2198913 ,  3.22063658,  3.22094707,  3.22175418,\n",
       "        3.22260764,  3.22372455,  3.22649965,  3.23728281,  3.23820938,\n",
       "        3.23907394,  3.24021604,  3.24161997,  3.24291536,  3.24491911,\n",
       "        3.25052303,  3.25402827,  3.2561941 ,  3.26177866,  3.26271359,\n",
       "        3.26340313,  3.26568523,  3.26807283,  3.26819522,  3.26967888,\n",
       "        3.26972476,  3.27302612,  3.27507252,  3.27528625,  3.27620207,\n",
       "        3.27806345,  3.27832274,  3.28315397,  3.28415895,  3.28695908,\n",
       "        3.29024315,  3.29205103,  3.29441952,  3.29589138,  3.29813584,\n",
       "        3.29954542,  3.29966665,  3.3000303 ,  3.30145423,  3.32317619,\n",
       "        3.32520676,  3.32660488,  3.33187635,  3.33734925,  3.33833791,\n",
       "        3.33893696,  3.34001497,  3.34094298,  3.3443086 ,  3.34964177,\n",
       "        3.35174581,  3.35392308,  3.35520491,  3.35778201,  3.35824359,\n",
       "        3.35968749,  3.36352494,  3.36752134,  3.37274369,  3.37521851,\n",
       "        3.37609242,  3.37672919,  3.37985207,  3.38282426,  3.38660597,\n",
       "        3.39392104,  3.39536449,  3.39874977,  3.39944113,  3.40001471,\n",
       "        3.40526064,  3.40618555,  3.40857742,  3.40991202,  3.41436671,\n",
       "        3.41792335,  3.41847919,  3.42379906,  3.42702495,  3.43438495,\n",
       "        3.43604424,  3.43655351,  3.44223764,  3.44509797,  3.44692617,\n",
       "        3.44828943,  3.4531435 ,  3.45569096,  3.45881483,  3.47064835,\n",
       "        3.47262149,  3.47640619,  3.48229809,  3.4847812 ,  3.48987106,\n",
       "        3.49847109,  3.50012857,  3.50297017,  3.50345544,  3.50903121,\n",
       "        3.51728589,  3.52371963,  3.5251383 ,  3.52862579,  3.53100552,\n",
       "        3.54899986,  3.55343496,  3.56352354,  3.56771636,  3.56824887,\n",
       "        3.5869625 ,  3.58928962,  3.59306276,  3.60399778,  3.60781097,\n",
       "        3.61455391,  3.62256815,  3.62713385,  3.6279333 ,  3.63396478,\n",
       "        3.64050821,  3.65241016,  3.6559814 ,  3.67821968,  3.6933589 ,\n",
       "        3.70646732,  3.71189978,  3.73899719,  3.76434589,  3.7723335 ,\n",
       "        3.78375475,  3.80234138,  3.81032807,  3.83206211,  3.87405472,\n",
       "        4.00164966,  4.02961537,  4.03321212,  4.29083908,  4.32803651])"
      ]
     },
     "execution_count": 64,
     "metadata": {},
     "output_type": "execute_result"
    }
   ],
   "source": [
    "ed[:,0]\n",
    "\n",
    "\n"
   ]
  },
  {
   "cell_type": "code",
   "execution_count": 65,
   "metadata": {
    "collapsed": false
   },
   "outputs": [
    {
     "data": {
      "text/plain": [
       "<function matplotlib.pyplot.show>"
      ]
     },
     "execution_count": 65,
     "metadata": {},
     "output_type": "execute_result"
    },
    {
     "data": {
      "image/png": "[encoded data removed]",
      "text/plain": [
       "<matplotlib.figure.Figure at 0x10a6f00f0>"
      ]
     },
     "metadata": {},
     "output_type": "display_data"
    }
   ],
   "source": [
    "plt.hist(ed[:,0])\n",
    "plt.show"
   ]
  },
  {
   "cell_type": "code",
   "execution_count": 71,
   "metadata": {
    "collapsed": false
   },
   "outputs": [
    {
     "data": {
      "text/plain": [
       "38"
      ]
     },
     "execution_count": 71,
     "metadata": {},
     "output_type": "execute_result"
    }
   ],
   "source": [
    "np.count_nonzero(ed[0:200,1])"
   ]
  },
  {
   "cell_type": "code",
   "execution_count": null,
   "metadata": {
    "collapsed": true
   },
   "outputs": [],
   "source": []
  }
 ],
 "metadata": {
  "kernelspec": {
   "display_name": "Python 3",
   "language": "python",
   "name": "python3"
  },
  "language_info": {
   "codemirror_mode": {
    "name": "ipython",
    "version": 3
   },
   "file_extension": ".py",
   "mimetype": "text/x-python",
   "name": "python",
   "nbconvert_exporter": "python",
   "pygments_lexer": "ipython3",
   "version": "3.4.3"
  }
 },
 "nbformat": 4,
 "nbformat_minor": 0
}
