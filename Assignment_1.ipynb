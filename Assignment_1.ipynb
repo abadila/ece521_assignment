{
 "cells": [
  {
   "cell_type": "code",
   "execution_count": 6,
   "metadata": {
    "collapsed": false
   },
   "outputs": [],
   "source": [
    "import numpy as np\n",
    "import matplotlib as mt\n",
    "import matplotlib.pyplot as plt\n",
    "\n",
    "%matplotlib inline"
   ]
  },
  {
   "cell_type": "code",
   "execution_count": 7,
   "metadata": {
    "collapsed": false
   },
   "outputs": [
    {
     "name": "stderr",
     "output_type": "stream",
     "text": [
      "ERROR: Line magic function `%conda` not found.\n"
     ]
    }
   ],
   "source": [
    "%conda install pandas"
   ]
  },
  {
   "cell_type": "code",
   "execution_count": 8,
   "metadata": {
    "collapsed": false
   },
   "outputs": [],
   "source": [
    "import pandas"
   ]
  },
  {
   "cell_type": "code",
   "execution_count": 10,
   "metadata": {
    "collapsed": false
   },
   "outputs": [],
   "source": [
    "train_x = np.linspace(1.0, 10.0, num = 100)[:, np.newaxis]\n",
    "train_y = np.sin(train_x) + 0.1* np.power(train_x, 2) + 0.5 + np.random.randn(100, 1)\n",
    "\n",
    "with np.load(\"TINY_MNIST.npz\") as data:\n",
    "    x, t = data[\"x\"], data[\"t\"]\n",
    "    x_eval, t_eval = data[\"x_eval\"], data[\"t_eval\"]\n",
    "    "
   ]
  },
  {
   "cell_type": "code",
   "execution_count": 53,
   "metadata": {
    "collapsed": false,
    "scrolled": true
   },
   "outputs": [],
   "source": [
    "# Task 3\n",
    "# get Euclidean distance\n",
    "\n",
    "def getEucDist(vec1, vec2):\n",
    "    return np.linalg.norm(vec1 - vec2)\n",
    "\n",
    "def getEucDistAll(vecToClass, vecs, resp):\n",
    "    arr = [] \n",
    "    for idx, val in enumerate(vecs):\n",
    "        arr.append([getEucDist(val, vecToClass), resp[idx][0]])\n",
    "    arr.sort(key=lambda x: x[0])\n",
    "    ed = np.asarray(arr)\n",
    "    return ed\n",
    "\n",
    "def getVote(sortedResp, K):\n",
    "    p1 = np.count_nonzero(sortedResp[0:K])/K\n",
    "    return p1\n"
   ]
  },
  {
   "cell_type": "code",
   "execution_count": 57,
   "metadata": {
    "collapsed": false
   },
   "outputs": [
    {
     "data": {
      "text/plain": [
       "0.31666666666666665"
      ]
     },
     "execution_count": 57,
     "metadata": {},
     "output_type": "execute_result"
    }
   ],
   "source": [
    "ed = getEucDistAll(x_eval[1], x, t)\n",
    "getVote(ed[:,1], 300)"
   ]
  },
  {
   "cell_type": "code",
   "execution_count": 29,
   "metadata": {
    "collapsed": false
   },
   "outputs": [
    {
     "data": {
      "text/plain": [
       "<function matplotlib.pyplot.show>"
      ]
     },
     "execution_count": 29,
     "metadata": {},
     "output_type": "execute_result"
    },
    {
     "data": {
      "image/png": "[encoded data removed]",
      "text/plain": [
       "<matplotlib.figure.Figure at 0x10b5b9710>"
      ]
     },
     "metadata": {},
     "output_type": "display_data"
    }
   ],
   "source": [
    "plt.hist(ed[:,0])\n",
    "plt.show"
   ]
  },
  {
   "cell_type": "code",
   "execution_count": 40,
   "metadata": {
    "collapsed": false
   },
   "outputs": [
    {
     "data": {
      "text/plain": [
       "0"
      ]
     },
     "execution_count": 40,
     "metadata": {},
     "output_type": "execute_result"
    }
   ],
   "source": [
    "np.count_nonzero(ed[0:1,1])"
   ]
  },
  {
   "cell_type": "markdown",
   "metadata": {},
   "source": [
    "### Task 3"
   ]
  },
  {
   "cell_type": "code",
   "execution_count": 50,
   "metadata": {
    "collapsed": true
   },
   "outputs": [],
   "source": [
    "Nnei = [5, 50, 100, 200, 400, 800]\n",
    "kval = [1, 3, 5, 7, 21, 101, 401]"
   ]
  },
  {
   "cell_type": "code",
   "execution_count": 52,
   "metadata": {
    "collapsed": false
   },
   "outputs": [
    {
     "data": {
      "text/plain": [
       "array([[ 0.  ,  0.  ,  0.  , ...,  0.  ,  0.  ,  0.  ],\n",
       "       [ 0.  ,  0.  ,  0.08, ...,  0.13,  0.  ,  0.  ],\n",
       "       [ 0.  ,  0.  ,  0.  , ...,  0.  ,  0.  ,  0.  ],\n",
       "       ..., \n",
       "       [ 0.11,  0.2 ,  0.24, ...,  0.55,  0.46,  0.  ],\n",
       "       [ 0.19,  0.42,  0.42, ...,  0.52,  0.22,  0.  ],\n",
       "       [ 0.  ,  0.  ,  0.02, ...,  0.62,  0.17,  0.  ]])"
      ]
     },
     "execution_count": 52,
     "metadata": {},
     "output_type": "execute_result"
    }
   ],
   "source": [
    "x[0:40]"
   ]
  },
  {
   "cell_type": "code",
   "execution_count": 193,
   "metadata": {
    "collapsed": true
   },
   "outputs": [],
   "source": [
    "def getResid(n, k, x_val, tr, resp):\n",
    "    arr_comp = []\n",
    "    for idx, im in enumerate(x_val):\n",
    "        ed_iter = getEucDistAll(im, tr[0:n], resp[0:n])\n",
    "        arr_comp.append([resp[idx][0] , getVote(ed_iter[:,1], k ) > 0.49 ])\n",
    "    return arr_comp\n"
   ]
  },
  {
   "cell_type": "code",
   "execution_count": 194,
   "metadata": {
    "collapsed": false
   },
   "outputs": [],
   "source": [
    "df = pandas.DataFrame(res)\n",
    "df.columns = ['resp', 'forec']"
   ]
  },
  {
   "cell_type": "code",
   "execution_count": 205,
   "metadata": {
    "collapsed": false
   },
   "outputs": [],
   "source": [
    "def getPrecRecall(n, k, x_val, tr, resp):\n",
    "    res = getResid(n, k, x_val, tr, resp)\n",
    "    df = pandas.DataFrame(res)\n",
    "    df.columns = ['resp', 'forec']\n",
    "    \n",
    "    tps = len(df.ix[(df['resp']== 1) & (df['forec'] == 1) ])\n",
    "    fps = len(df.ix[(df['resp']== 0) & (df['forec'] == 1) ])\n",
    "    tns = len(df.ix[(df['resp']== 0) & (df['forec'] == 0) ])\n",
    "    fns = len(df.ix[(df['resp']== 1) & (df['forec'] == 0) ])\n",
    "    \n",
    "    prec = tps/(tps + fps)\n",
    "    reca = tps/(tps + fns)\n",
    "    f1 = 2*(prec*reca)/(prec + reca)\n",
    "    \n",
    "    arr_ret = pandas.DataFrame.transpose(pandas.DataFrame([n, k, fps + fps , prec, reca, f1 ]))\n",
    "    arr_ret.columns = ['n', 'k', 'val_err', 'prec', 'reca', 'f1']\n",
    "    return arr_ret\n",
    "    "
   ]
  },
  {
   "cell_type": "code",
   "execution_count": 204,
   "metadata": {
    "collapsed": false
   },
   "outputs": [
    {
     "data": {
      "text/html": [
       "<div>\n",
       "<table border=\"1\" class=\"dataframe\">\n",
       "  <thead>\n",
       "    <tr style=\"text-align: right;\">\n",
       "      <th></th>\n",
       "      <th>n</th>\n",
       "      <th>k</th>\n",
       "      <th>prec</th>\n",
       "      <th>reca</th>\n",
       "      <th>f1</th>\n",
       "    </tr>\n",
       "  </thead>\n",
       "  <tbody>\n",
       "    <tr>\n",
       "      <th>0</th>\n",
       "      <td>800</td>\n",
       "      <td>1</td>\n",
       "      <td>0.479167</td>\n",
       "      <td>0.46</td>\n",
       "      <td>0.469388</td>\n",
       "    </tr>\n",
       "  </tbody>\n",
       "</table>\n",
       "</div>"
      ],
      "text/plain": [
       "     n  k      prec  reca        f1\n",
       "0  800  1  0.479167  0.46  0.469388"
      ]
     },
     "execution_count": 204,
     "metadata": {},
     "output_type": "execute_result"
    }
   ],
   "source": [
    "df = getPrecRecall(800, 1, x_eval, x, t)\n",
    "for ks in kval:\n",
    "    df.append(getPrecRecall(800, ks, x_eval, x, t))\n",
    "df"
   ]
  },
  {
   "cell_type": "code",
   "execution_count": 215,
   "metadata": {
    "collapsed": false
   },
   "outputs": [
    {
     "data": {
      "text/html": [
       "<div>\n",
       "<table border=\"1\" class=\"dataframe\">\n",
       "  <thead>\n",
       "    <tr style=\"text-align: right;\">\n",
       "      <th></th>\n",
       "      <th>n</th>\n",
       "      <th>k</th>\n",
       "      <th>val_err</th>\n",
       "      <th>prec</th>\n",
       "      <th>reca</th>\n",
       "      <th>f1</th>\n",
       "    </tr>\n",
       "  </thead>\n",
       "  <tbody>\n",
       "    <tr>\n",
       "      <th>0</th>\n",
       "      <td>5</td>\n",
       "      <td>1</td>\n",
       "      <td>250</td>\n",
       "      <td>0.481328</td>\n",
       "      <td>0.580</td>\n",
       "      <td>0.526077</td>\n",
       "    </tr>\n",
       "    <tr>\n",
       "      <th>0</th>\n",
       "      <td>50</td>\n",
       "      <td>1</td>\n",
       "      <td>206</td>\n",
       "      <td>0.474490</td>\n",
       "      <td>0.465</td>\n",
       "      <td>0.469697</td>\n",
       "    </tr>\n",
       "    <tr>\n",
       "      <th>0</th>\n",
       "      <td>100</td>\n",
       "      <td>1</td>\n",
       "      <td>210</td>\n",
       "      <td>0.477612</td>\n",
       "      <td>0.480</td>\n",
       "      <td>0.478803</td>\n",
       "    </tr>\n",
       "    <tr>\n",
       "      <th>0</th>\n",
       "      <td>200</td>\n",
       "      <td>1</td>\n",
       "      <td>212</td>\n",
       "      <td>0.477833</td>\n",
       "      <td>0.485</td>\n",
       "      <td>0.481390</td>\n",
       "    </tr>\n",
       "    <tr>\n",
       "      <th>0</th>\n",
       "      <td>400</td>\n",
       "      <td>1</td>\n",
       "      <td>208</td>\n",
       "      <td>0.477387</td>\n",
       "      <td>0.475</td>\n",
       "      <td>0.476190</td>\n",
       "    </tr>\n",
       "    <tr>\n",
       "      <th>0</th>\n",
       "      <td>800</td>\n",
       "      <td>1</td>\n",
       "      <td>200</td>\n",
       "      <td>0.479167</td>\n",
       "      <td>0.460</td>\n",
       "      <td>0.469388</td>\n",
       "    </tr>\n",
       "  </tbody>\n",
       "</table>\n",
       "</div>"
      ],
      "text/plain": [
       "     n  k  val_err      prec   reca        f1\n",
       "0    5  1      250  0.481328  0.580  0.526077\n",
       "0   50  1      206  0.474490  0.465  0.469697\n",
       "0  100  1      210  0.477612  0.480  0.478803\n",
       "0  200  1      212  0.477833  0.485  0.481390\n",
       "0  400  1      208  0.477387  0.475  0.476190\n",
       "0  800  1      200  0.479167  0.460  0.469388"
      ]
     },
     "execution_count": 215,
     "metadata": {},
     "output_type": "execute_result"
    }
   ],
   "source": [
    "df_task1 = getPrecRecall(5, 1, x_eval, x, t).append(getPrecRecall(50, 1, x_eval, x, t)).append(getPrecRecall(100, 1, x_eval, x, t)).append(getPrecRecall(200, 1, x_eval, x, t)).append(getPrecRecall(400, 1, x_eval, x, t)).append(getPrecRecall(800, 1, x_eval, x, t))\n",
    "df_task1\n",
    "\n"
   ]
  },
  {
   "cell_type": "code",
   "execution_count": 216,
   "metadata": {
    "collapsed": false
   },
   "outputs": [
    {
     "data": {
      "text/html": [
       "<div>\n",
       "<table border=\"1\" class=\"dataframe\">\n",
       "  <thead>\n",
       "    <tr style=\"text-align: right;\">\n",
       "      <th></th>\n",
       "      <th>n</th>\n",
       "      <th>k</th>\n",
       "      <th>val_err</th>\n",
       "      <th>prec</th>\n",
       "      <th>reca</th>\n",
       "      <th>f1</th>\n",
       "    </tr>\n",
       "  </thead>\n",
       "  <tbody>\n",
       "    <tr>\n",
       "      <th>0</th>\n",
       "      <td>800</td>\n",
       "      <td>1</td>\n",
       "      <td>200</td>\n",
       "      <td>0.479167</td>\n",
       "      <td>0.460</td>\n",
       "      <td>0.469388</td>\n",
       "    </tr>\n",
       "    <tr>\n",
       "      <th>0</th>\n",
       "      <td>800</td>\n",
       "      <td>3</td>\n",
       "      <td>208</td>\n",
       "      <td>0.480000</td>\n",
       "      <td>0.480</td>\n",
       "      <td>0.480000</td>\n",
       "    </tr>\n",
       "    <tr>\n",
       "      <th>0</th>\n",
       "      <td>800</td>\n",
       "      <td>5</td>\n",
       "      <td>210</td>\n",
       "      <td>0.475000</td>\n",
       "      <td>0.475</td>\n",
       "      <td>0.475000</td>\n",
       "    </tr>\n",
       "    <tr>\n",
       "      <th>0</th>\n",
       "      <td>800</td>\n",
       "      <td>7</td>\n",
       "      <td>208</td>\n",
       "      <td>0.477387</td>\n",
       "      <td>0.475</td>\n",
       "      <td>0.476190</td>\n",
       "    </tr>\n",
       "    <tr>\n",
       "      <th>0</th>\n",
       "      <td>800</td>\n",
       "      <td>21</td>\n",
       "      <td>210</td>\n",
       "      <td>0.477612</td>\n",
       "      <td>0.480</td>\n",
       "      <td>0.478803</td>\n",
       "    </tr>\n",
       "    <tr>\n",
       "      <th>0</th>\n",
       "      <td>800</td>\n",
       "      <td>101</td>\n",
       "      <td>210</td>\n",
       "      <td>0.467005</td>\n",
       "      <td>0.460</td>\n",
       "      <td>0.463476</td>\n",
       "    </tr>\n",
       "    <tr>\n",
       "      <th>0</th>\n",
       "      <td>800</td>\n",
       "      <td>401</td>\n",
       "      <td>196</td>\n",
       "      <td>0.494845</td>\n",
       "      <td>0.480</td>\n",
       "      <td>0.487310</td>\n",
       "    </tr>\n",
       "  </tbody>\n",
       "</table>\n",
       "</div>"
      ],
      "text/plain": [
       "     n    k  val_err      prec   reca        f1\n",
       "0  800    1      200  0.479167  0.460  0.469388\n",
       "0  800    3      208  0.480000  0.480  0.480000\n",
       "0  800    5      210  0.475000  0.475  0.475000\n",
       "0  800    7      208  0.477387  0.475  0.476190\n",
       "0  800   21      210  0.477612  0.480  0.478803\n",
       "0  800  101      210  0.467005  0.460  0.463476\n",
       "0  800  401      196  0.494845  0.480  0.487310"
      ]
     },
     "execution_count": 216,
     "metadata": {},
     "output_type": "execute_result"
    }
   ],
   "source": [
    "df_task2 = getPrecRecall(800, 1, x_eval, x, t).append(getPrecRecall(800, 3, x_eval, x, t)).append(getPrecRecall(800, 5, x_eval, x, t)).append(getPrecRecall(800, 7, x_eval, x, t)).append(getPrecRecall(800, 21, x_eval, x, t)).append(getPrecRecall(800, 101, x_eval, x, t)).append(getPrecRecall(800, 401, x_eval, x, t))\n",
    "\n",
    "df_task2"
   ]
  },
  {
   "cell_type": "code",
   "execution_count": null,
   "metadata": {
    "collapsed": true
   },
   "outputs": [],
   "source": []
  }
 ],
 "metadata": {
  "kernelspec": {
   "display_name": "Python 3",
   "language": "python",
   "name": "python3"
  },
  "language_info": {
   "codemirror_mode": {
    "name": "ipython",
    "version": 3
   },
   "file_extension": ".py",
   "mimetype": "text/x-python",
   "name": "python",
   "nbconvert_exporter": "python",
   "pygments_lexer": "ipython3",
   "version": "3.5.1"
  }
 },
 "nbformat": 4,
 "nbformat_minor": 0
}
